{
  "nbformat": 4,
  "nbformat_minor": 0,
  "metadata": {
    "colab": {
      "provenance": []
    },
    "kernelspec": {
      "name": "python3",
      "display_name": "Python 3"
    },
    "language_info": {
      "name": "python"
    }
  },
  "cells": [
    {
      "cell_type": "markdown",
      "source": [
        "# Data Loading"
      ],
      "metadata": {
        "id": "n_sIDLKNBFyv"
      }
    },
    {
      "cell_type": "markdown",
      "source": [
        "## Mount the drive"
      ],
      "metadata": {
        "id": "foiHqAZzB4Lr"
      }
    },
    {
      "cell_type": "code",
      "execution_count": null,
      "metadata": {
        "id": "KX2FdWNa8m4S",
        "colab": {
          "base_uri": "https://localhost:8080/"
        },
        "outputId": "e2152f9d-bdc6-4c73-ff88-78b30a59d6f2"
      },
      "outputs": [
        {
          "output_type": "stream",
          "name": "stdout",
          "text": [
            "Drive already mounted at /content/drive; to attempt to forcibly remount, call drive.mount(\"/content/drive\", force_remount=True).\n"
          ]
        }
      ],
      "source": [
        "from google.colab import drive\n",
        "\n",
        "drive.mount('/content/drive')\n"
      ]
    },
    {
      "cell_type": "markdown",
      "source": [
        "## Combine all the data sheets and merge them as one"
      ],
      "metadata": {
        "id": "EGGkwa0BBoYZ"
      }
    },
    {
      "cell_type": "code",
      "source": [
        "import pandas as pd\n",
        "import os\n",
        "\n",
        "data_folder = '/content/drive/MyDrive/Colab Notebooks/SOFT_PROJECT/Data'\n",
        "os.chdir(data_folder)\n",
        "\n",
        "file_names = os.listdir(data_folder)\n",
        "dfs = [pd.read_excel(os.path.join(data_folder, file) , skiprows=9) for file in file_names]\n",
        "\n",
        "combined_data = pd.concat(dfs, ignore_index=True)"
      ],
      "metadata": {
        "id": "dWXd3f9L97S3"
      },
      "execution_count": null,
      "outputs": []
    },
    {
      "cell_type": "markdown",
      "source": [
        "## Save the Data to drive"
      ],
      "metadata": {
        "id": "lu38oEM5BcFC"
      }
    },
    {
      "cell_type": "code",
      "source": [
        "## print(combined_data)\n",
        "## output_file_path = '/content/drive/MyDrive/Colab Notebooks/SOFT_PROJECT/Data/combined_data.xlsx'\n",
        "## combined_data.to_excel(output_file_path, index=False)\n",
        "\n",
        "## print(f\"Combined data exported to: {output_file_path}\")\n"
      ],
      "metadata": {
        "id": "hz4I9Wke-zGy"
      },
      "execution_count": null,
      "outputs": []
    },
    {
      "cell_type": "markdown",
      "source": [
        "# Data Pre-Processing\n"
      ],
      "metadata": {
        "id": "Ebn7fGHMIf3M"
      }
    },
    {
      "cell_type": "markdown",
      "source": [
        "## Fetch the combined data and convert it into data frame"
      ],
      "metadata": {
        "id": "cPy4IZUAB-4n"
      }
    },
    {
      "cell_type": "code",
      "source": [
        "# View the structure of the merged DataFrame\n",
        "input_file_path = '/content/drive/MyDrive/Colab Notebooks/SOFT_PROJECT/Data/combined_data.xlsx'\n",
        "df = pd.read_excel(input_file_path)\n",
        "df.info()"
      ],
      "metadata": {
        "id": "-JkvQcxdCNPl",
        "colab": {
          "base_uri": "https://localhost:8080/"
        },
        "outputId": "ee7a63e7-d1a8-4d21-90e0-ecc8eea930a1"
      },
      "execution_count": null,
      "outputs": [
        {
          "output_type": "stream",
          "name": "stdout",
          "text": [
            "<class 'pandas.core.frame.DataFrame'>\n",
            "RangeIndex: 1234 entries, 0 to 1233\n",
            "Data columns (total 20 columns):\n",
            " #   Column          Non-Null Count  Dtype  \n",
            "---  ------          --------------  -----  \n",
            " 0   SL              1234 non-null   int64  \n",
            " 1   DISTRICT        1234 non-null   object \n",
            " 2   UPAZILA         1234 non-null   object \n",
            " 3   RIVER           1234 non-null   object \n",
            " 4   STATION ID      1234 non-null   object \n",
            " 5   STATION         1234 non-null   object \n",
            " 6   DATETIME        1234 non-null   object \n",
            " 7   WATER LEVEL(m)  1 non-null      float64\n",
            " 8   BP              197 non-null    float64\n",
            " 9   TEMP(C)         861 non-null    float64\n",
            " 10  PH(m)           1232 non-null   float64\n",
            " 11  DO              1232 non-null   float64\n",
            " 12  SALINITY(PPT)   1221 non-null   float64\n",
            " 13  TDS(Mg/L)       1233 non-null   float64\n",
            " 14  EC(MICROS)/CM   1233 non-null   float64\n",
            " 15  TRANSPARENCY    299 non-null    float64\n",
            " 16  FE(Mg/L)        1006 non-null   float64\n",
            " 17  CI(Mg/L)        914 non-null    float64\n",
            " 18  LATITUDE        1234 non-null   float64\n",
            " 19  LONGITUDE       1234 non-null   float64\n",
            "dtypes: float64(13), int64(1), object(6)\n",
            "memory usage: 192.9+ KB\n"
          ]
        }
      ]
    },
    {
      "cell_type": "markdown",
      "source": [
        "## Remove unnecessary features"
      ],
      "metadata": {
        "id": "M93-sLV-DOCT"
      }
    },
    {
      "cell_type": "code",
      "source": [
        "# Drop unwanted columns\n",
        "df.drop(['LATITUDE', 'LONGITUDE' ,'SL' , 'DISTRICT' ,'UPAZILA','RIVER' ,'STATION ID','STATION' , 'WATER LEVEL(m)' , 'BP'], axis=1, inplace=True)\n",
        "\n",
        "# Display the updated DataFrame\n",
        "print(df.info())\n"
      ],
      "metadata": {
        "id": "DpcvsczrDL_T",
        "colab": {
          "base_uri": "https://localhost:8080/"
        },
        "outputId": "dc46ebef-3e36-4990-a16a-050656ff31ae"
      },
      "execution_count": null,
      "outputs": [
        {
          "output_type": "stream",
          "name": "stdout",
          "text": [
            "<class 'pandas.core.frame.DataFrame'>\n",
            "RangeIndex: 1234 entries, 0 to 1233\n",
            "Data columns (total 10 columns):\n",
            " #   Column         Non-Null Count  Dtype  \n",
            "---  ------         --------------  -----  \n",
            " 0   DATETIME       1234 non-null   object \n",
            " 1   TEMP(C)        861 non-null    float64\n",
            " 2   PH(m)          1232 non-null   float64\n",
            " 3   DO             1232 non-null   float64\n",
            " 4   SALINITY(PPT)  1221 non-null   float64\n",
            " 5   TDS(Mg/L)      1233 non-null   float64\n",
            " 6   EC(MICROS)/CM  1233 non-null   float64\n",
            " 7   TRANSPARENCY   299 non-null    float64\n",
            " 8   FE(Mg/L)       1006 non-null   float64\n",
            " 9   CI(Mg/L)       914 non-null    float64\n",
            "dtypes: float64(9), object(1)\n",
            "memory usage: 96.5+ KB\n",
            "None\n"
          ]
        }
      ]
    },
    {
      "cell_type": "markdown",
      "source": [
        "## Fill the null values with Time-Based Interpolation"
      ],
      "metadata": {
        "id": "1S2U545pIQon"
      }
    },
    {
      "cell_type": "code",
      "source": [
        "# Convert 'DATETIME' to datetime format\n",
        "df['DATETIME'] = pd.to_datetime(df['DATETIME'])\n",
        "\n",
        "# Set 'DATETIME' as the index\n",
        "df.set_index('DATETIME', inplace=True)\n",
        "\n",
        "# Perform time-based interpolation\n",
        "df.interpolate(method='time', inplace=True)\n",
        "\n",
        "# Reset the index if needed\n",
        "df.reset_index(inplace=True)\n",
        "\n",
        "# Display the updated DataFrame\n",
        "print(df.info())\n"
      ],
      "metadata": {
        "id": "lkfFXjWOIz7B",
        "colab": {
          "base_uri": "https://localhost:8080/"
        },
        "outputId": "91693aa0-5f3f-4d17-a866-eb1079443695"
      },
      "execution_count": null,
      "outputs": [
        {
          "output_type": "stream",
          "name": "stdout",
          "text": [
            "<class 'pandas.core.frame.DataFrame'>\n",
            "RangeIndex: 1234 entries, 0 to 1233\n",
            "Data columns (total 10 columns):\n",
            " #   Column         Non-Null Count  Dtype         \n",
            "---  ------         --------------  -----         \n",
            " 0   DATETIME       1234 non-null   datetime64[ns]\n",
            " 1   TEMP(C)        1234 non-null   float64       \n",
            " 2   PH(m)          1234 non-null   float64       \n",
            " 3   DO             1234 non-null   float64       \n",
            " 4   SALINITY(PPT)  1232 non-null   float64       \n",
            " 5   TDS(Mg/L)      1234 non-null   float64       \n",
            " 6   EC(MICROS)/CM  1234 non-null   float64       \n",
            " 7   TRANSPARENCY   1232 non-null   float64       \n",
            " 8   FE(Mg/L)       1198 non-null   float64       \n",
            " 9   CI(Mg/L)       1198 non-null   float64       \n",
            "dtypes: datetime64[ns](1), float64(9)\n",
            "memory usage: 96.5 KB\n",
            "None\n"
          ]
        }
      ]
    },
    {
      "cell_type": "markdown",
      "source": [
        "## Drop any rows with null values"
      ],
      "metadata": {
        "id": "Qhnw1ILBL0x-"
      }
    },
    {
      "cell_type": "code",
      "source": [
        "# Drop rows with any null values\n",
        "df.dropna(inplace=True)\n",
        "\n",
        "# Reset the index if needed\n",
        "df.reset_index(drop=True, inplace=True)\n",
        "\n",
        "# Display the updated DataFrame\n",
        "print(df.info())"
      ],
      "metadata": {
        "id": "zHBYdH1rL3dc",
        "colab": {
          "base_uri": "https://localhost:8080/"
        },
        "outputId": "e3d5b139-f41e-442d-f2fa-2ebeacee2ad2"
      },
      "execution_count": null,
      "outputs": [
        {
          "output_type": "stream",
          "name": "stdout",
          "text": [
            "<class 'pandas.core.frame.DataFrame'>\n",
            "RangeIndex: 1198 entries, 0 to 1197\n",
            "Data columns (total 10 columns):\n",
            " #   Column         Non-Null Count  Dtype         \n",
            "---  ------         --------------  -----         \n",
            " 0   DATETIME       1198 non-null   datetime64[ns]\n",
            " 1   TEMP(C)        1198 non-null   float64       \n",
            " 2   PH(m)          1198 non-null   float64       \n",
            " 3   DO             1198 non-null   float64       \n",
            " 4   SALINITY(PPT)  1198 non-null   float64       \n",
            " 5   TDS(Mg/L)      1198 non-null   float64       \n",
            " 6   EC(MICROS)/CM  1198 non-null   float64       \n",
            " 7   TRANSPARENCY   1198 non-null   float64       \n",
            " 8   FE(Mg/L)       1198 non-null   float64       \n",
            " 9   CI(Mg/L)       1198 non-null   float64       \n",
            "dtypes: datetime64[ns](1), float64(9)\n",
            "memory usage: 93.7 KB\n",
            "None\n"
          ]
        }
      ]
    },
    {
      "cell_type": "markdown",
      "source": [
        "## Remove the outliers"
      ],
      "metadata": {
        "id": "CKTYvDafI0h2"
      }
    },
    {
      "cell_type": "code",
      "source": [
        "unfiltered_data = df\n",
        "pureInputData = unfiltered_data[unfiltered_data['TEMP(C)'] >=15]\n",
        "\n",
        "unfiltered_data = pureInputData\n",
        "pureInputData = unfiltered_data[ (unfiltered_data['PH(m)'] <=14) & (unfiltered_data['PH(m)'] > 4) ]\n",
        "\n",
        "unfiltered_data = pureInputData\n",
        "pureInputData = unfiltered_data[ (unfiltered_data['DO'] <= 25)]\n",
        "\n",
        "unfiltered_data = pureInputData\n",
        "pureInputData = unfiltered_data[ (unfiltered_data['SALINITY(PPT)'] <= 5)]\n",
        "\n",
        "unfiltered_data = pureInputData\n",
        "pureInputData = unfiltered_data[ (unfiltered_data['TDS(Mg/L)'] <= 1000)]\n",
        "\n",
        "unfiltered_data = pureInputData\n",
        "pureInputData = unfiltered_data[ (unfiltered_data['EC(MICROS)/CM'] <= 2000)]\n",
        "\n",
        "unfiltered_data = pureInputData\n",
        "pureInputData = unfiltered_data[ (unfiltered_data['TRANSPARENCY'] <= 500)]\n",
        "\n",
        "unfiltered_data = pureInputData\n",
        "pureInputData = unfiltered_data[ (unfiltered_data['FE(Mg/L)'] <= 5)]\n",
        "\n",
        "unfiltered_data = pureInputData\n",
        "pureInputData = unfiltered_data[ (unfiltered_data['CI(Mg/L)'] <= 200)]\n",
        "\n",
        "columns_to_abs = pureInputData.columns.difference(['DATETIME'])\n",
        "pureInputData[columns_to_abs] = pureInputData[columns_to_abs].abs()\n",
        "\n",
        "df = pureInputData\n",
        "df.info()"
      ],
      "metadata": {
        "id": "pPC0A6IpIZE1",
        "colab": {
          "base_uri": "https://localhost:8080/"
        },
        "outputId": "491781e6-962c-4ab2-842f-98627bf1399d"
      },
      "execution_count": null,
      "outputs": [
        {
          "output_type": "stream",
          "name": "stdout",
          "text": [
            "<class 'pandas.core.frame.DataFrame'>\n",
            "Int64Index: 922 entries, 0 to 1197\n",
            "Data columns (total 10 columns):\n",
            " #   Column         Non-Null Count  Dtype         \n",
            "---  ------         --------------  -----         \n",
            " 0   DATETIME       922 non-null    datetime64[ns]\n",
            " 1   TEMP(C)        922 non-null    float64       \n",
            " 2   PH(m)          922 non-null    float64       \n",
            " 3   DO             922 non-null    float64       \n",
            " 4   SALINITY(PPT)  922 non-null    float64       \n",
            " 5   TDS(Mg/L)      922 non-null    float64       \n",
            " 6   EC(MICROS)/CM  922 non-null    float64       \n",
            " 7   TRANSPARENCY   922 non-null    float64       \n",
            " 8   FE(Mg/L)       922 non-null    float64       \n",
            " 9   CI(Mg/L)       922 non-null    float64       \n",
            "dtypes: datetime64[ns](1), float64(9)\n",
            "memory usage: 79.2 KB\n"
          ]
        },
        {
          "output_type": "stream",
          "name": "stderr",
          "text": [
            "<ipython-input-21-7f98deeaf6f1>:29: SettingWithCopyWarning: \n",
            "A value is trying to be set on a copy of a slice from a DataFrame.\n",
            "Try using .loc[row_indexer,col_indexer] = value instead\n",
            "\n",
            "See the caveats in the documentation: https://pandas.pydata.org/pandas-docs/stable/user_guide/indexing.html#returning-a-view-versus-a-copy\n",
            "  pureInputData[columns_to_abs] = pureInputData[columns_to_abs].abs()\n"
          ]
        }
      ]
    },
    {
      "cell_type": "markdown",
      "source": [
        "## Showing Box Plot for any potential outliers"
      ],
      "metadata": {
        "id": "L2hyBD0-OKts"
      }
    },
    {
      "cell_type": "code",
      "source": [
        "import matplotlib.pyplot as plt\n",
        "\n",
        "# Iterate through columns and create individual box plots\n",
        "plt.figure(figsize=(16, 8))\n",
        "for column in df.columns[1:]:  # Exclude 'DATETIME'\n",
        "    plt.subplot(2, 5, df.columns.get_loc(column))\n",
        "    plt.boxplot(df[column], vert=False)\n",
        "    plt.title(column)\n",
        "\n",
        "plt.tight_layout()\n",
        "plt.show()\n"
      ],
      "metadata": {
        "id": "hYnIc4JAOKIB",
        "colab": {
          "base_uri": "https://localhost:8080/",
          "height": 553
        },
        "outputId": "557b0129-1619-467f-ae39-03c0b8130c54"
      },
      "execution_count": null,
      "outputs": [
        {
          "output_type": "display_data",
          "data": {
            "text/plain": [
              "<Figure size 1600x800 with 9 Axes>"
            ],
            "image/png": "[encoded data removed]"
          },
          "metadata": {}
        }
      ]
    },
    {
      "cell_type": "markdown",
      "source": [
        "# Data Augmentation"
      ],
      "metadata": {
        "id": "B7gfBZLphQXs"
      }
    },
    {
      "cell_type": "markdown",
      "source": [
        "## Sort the data According to date"
      ],
      "metadata": {
        "id": "vMt76RpJN0zu"
      }
    },
    {
      "cell_type": "code",
      "source": [
        "# Sort the DataFrame by date\n",
        "df_sorted = df.sort_values(by='DATETIME')\n",
        "\n",
        "# Display the sorted DataFrame\n",
        "df = df_sorted\n",
        "\n",
        "df.head()\n"
      ],
      "metadata": {
        "id": "IXHH0ytFhQFH",
        "colab": {
          "base_uri": "https://localhost:8080/",
          "height": 206
        },
        "outputId": "2fe36580-530f-4a19-fdc0-939ff7cf79e0"
      },
      "execution_count": null,
      "outputs": [
        {
          "output_type": "execute_result",
          "data": {
            "text/plain": [
              "      DATETIME  TEMP(C)  PH(m)   DO  SALINITY(PPT)  TDS(Mg/L)  EC(MICROS)/CM  \\\n",
              "596 2001-04-14     30.8   7.85  6.8           0.05      357.0          715.0   \n",
              "774 2001-04-18     30.7   7.83  7.8           0.05       93.8          180.0   \n",
              "818 2001-04-19     31.1   7.61  6.9           0.05       90.8          181.3   \n",
              "178 2001-04-20     33.2   7.80  6.7           0.05      124.8          248.0   \n",
              "360 2001-04-22     31.4   6.80  7.0           0.05      247.5          495.0   \n",
              "\n",
              "     TRANSPARENCY  FE(Mg/L)  CI(Mg/L)  \n",
              "596         22.86       1.0       3.0  \n",
              "774         22.86       1.0       3.0  \n",
              "818         22.86       1.0       3.0  \n",
              "178         22.86       1.0       3.0  \n",
              "360         22.86       1.0       3.0  "
            ],
            "text/html": [
              "\n",
              "  <div id=\"df-7124cd3b-2427-46da-bc15-7a367272afd7\" class=\"colab-df-container\">\n",
              "    <div>\n",
              "<style scoped>\n",
              "    .dataframe tbody tr th:only-of-type {\n",
              "        vertical-align: middle;\n",
              "    }\n",
              "\n",
              "    .dataframe tbody tr th {\n",
              "        vertical-align: top;\n",
              "    }\n",
              "\n",
              "    .dataframe thead th {\n",
              "        text-align: right;\n",
              "    }\n",
              "</style>\n",
              "<table border=\"1\" class=\"dataframe\">\n",
              "  <thead>\n",
              "    <tr style=\"text-align: right;\">\n",
              "      <th></th>\n",
              "      <th>DATETIME</th>\n",
              "      <th>TEMP(C)</th>\n",
              "      <th>PH(m)</th>\n",
              "      <th>DO</th>\n",
              "      <th>SALINITY(PPT)</th>\n",
              "      <th>TDS(Mg/L)</th>\n",
              "      <th>EC(MICROS)/CM</th>\n",
              "      <th>TRANSPARENCY</th>\n",
              "      <th>FE(Mg/L)</th>\n",
              "      <th>CI(Mg/L)</th>\n",
              "    </tr>\n",
              "  </thead>\n",
              "  <tbody>\n",
              "    <tr>\n",
              "      <th>596</th>\n",
              "      <td>2001-04-14</td>\n",
              "      <td>30.8</td>\n",
              "      <td>7.85</td>\n",
              "      <td>6.8</td>\n",
              "      <td>0.05</td>\n",
              "      <td>357.0</td>\n",
              "      <td>715.0</td>\n",
              "      <td>22.86</td>\n",
              "      <td>1.0</td>\n",
              "      <td>3.0</td>\n",
              "    </tr>\n",
              "    <tr>\n",
              "      <th>774</th>\n",
              "      <td>2001-04-18</td>\n",
              "      <td>30.7</td>\n",
              "      <td>7.83</td>\n",
              "      <td>7.8</td>\n",
              "      <td>0.05</td>\n",
              "      <td>93.8</td>\n",
              "      <td>180.0</td>\n",
              "      <td>22.86</td>\n",
              "      <td>1.0</td>\n",
              "      <td>3.0</td>\n",
              "    </tr>\n",
              "    <tr>\n",
              "      <th>818</th>\n",
              "      <td>2001-04-19</td>\n",
              "      <td>31.1</td>\n",
              "      <td>7.61</td>\n",
              "      <td>6.9</td>\n",
              "      <td>0.05</td>\n",
              "      <td>90.8</td>\n",
              "      <td>181.3</td>\n",
              "      <td>22.86</td>\n",
              "      <td>1.0</td>\n",
              "      <td>3.0</td>\n",
              "    </tr>\n",
              "    <tr>\n",
              "      <th>178</th>\n",
              "      <td>2001-04-20</td>\n",
              "      <td>33.2</td>\n",
              "      <td>7.80</td>\n",
              "      <td>6.7</td>\n",
              "      <td>0.05</td>\n",
              "      <td>124.8</td>\n",
              "      <td>248.0</td>\n",
              "      <td>22.86</td>\n",
              "      <td>1.0</td>\n",
              "      <td>3.0</td>\n",
              "    </tr>\n",
              "    <tr>\n",
              "      <th>360</th>\n",
              "      <td>2001-04-22</td>\n",
              "      <td>31.4</td>\n",
              "      <td>6.80</td>\n",
              "      <td>7.0</td>\n",
              "      <td>0.05</td>\n",
              "      <td>247.5</td>\n",
              "      <td>495.0</td>\n",
              "      <td>22.86</td>\n",
              "      <td>1.0</td>\n",
              "      <td>3.0</td>\n",
              "    </tr>\n",
              "  </tbody>\n",
              "</table>\n",
              "</div>\n",
              "    <div class=\"colab-df-buttons\">\n",
              "\n",
              "  <div class=\"colab-df-container\">\n",
              "    <button class=\"colab-df-convert\" onclick=\"convertToInteractive('df-7124cd3b-2427-46da-bc15-7a367272afd7')\"\n",
              "            title=\"Convert this dataframe to an interactive table.\"\n",
              "            style=\"display:none;\">\n",
              "\n",
              "  <svg xmlns=\"http://www.w3.org/2000/svg\" height=\"24px\" viewBox=\"0 -960 960 960\">\n",
              "    <path d=\"M120-120v-720h720v720H120Zm60-500h600v-160H180v160Zm220 220h160v-160H400v160Zm0 220h160v-160H400v160ZM180-400h160v-160H180v160Zm440 0h160v-160H620v160ZM180-180h160v-160H180v160Zm440 0h160v-160H620v160Z\"/>\n",
              "  </svg>\n",
              "    </button>\n",
              "\n",
              "  <style>\n",
              "    .colab-df-container {\n",
              "      display:flex;\n",
              "      gap: 12px;\n",
              "    }\n",
              "\n",
              "    .colab-df-convert {\n",
              "      background-color: #E8F0FE;\n",
              "      border: none;\n",
              "      border-radius: 50%;\n",
              "      cursor: pointer;\n",
              "      display: none;\n",
              "      fill: #1967D2;\n",
              "      height: 32px;\n",
              "      padding: 0 0 0 0;\n",
              "      width: 32px;\n",
              "    }\n",
              "\n",
              "    .colab-df-convert:hover {\n",
              "      background-color: #E2EBFA;\n",
              "      box-shadow: 0px 1px 2px rgba(60, 64, 67, 0.3), 0px 1px 3px 1px rgba(60, 64, 67, 0.15);\n",
              "      fill: #174EA6;\n",
              "    }\n",
              "\n",
              "    .colab-df-buttons div {\n",
              "      margin-bottom: 4px;\n",
              "    }\n",
              "\n",
              "    [theme=dark] .colab-df-convert {\n",
              "      background-color: #3B4455;\n",
              "      fill: #D2E3FC;\n",
              "    }\n",
              "\n",
              "    [theme=dark] .colab-df-convert:hover {\n",
              "      background-color: #434B5C;\n",
              "      box-shadow: 0px 1px 3px 1px rgba(0, 0, 0, 0.15);\n",
              "      filter: drop-shadow(0px 1px 2px rgba(0, 0, 0, 0.3));\n",
              "      fill: #FFFFFF;\n",
              "    }\n",
              "  </style>\n",
              "\n",
              "    <script>\n",
              "      const buttonEl =\n",
              "        document.querySelector('#df-7124cd3b-2427-46da-bc15-7a367272afd7 button.colab-df-convert');\n",
              "      buttonEl.style.display =\n",
              "        google.colab.kernel.accessAllowed ? 'block' : 'none';\n",
              "\n",
              "      async function convertToInteractive(key) {\n",
              "        const element = document.querySelector('#df-7124cd3b-2427-46da-bc15-7a367272afd7');\n",
              "        const dataTable =\n",
              "          await google.colab.kernel.invokeFunction('convertToInteractive',\n",
              "                                                    [key], {});\n",
              "        if (!dataTable) return;\n",
              "\n",
              "        const docLinkHtml = 'Like what you see? Visit the ' +\n",
              "          '<a target=\"_blank\" href=https://colab.research.google.com/notebooks/data_table.ipynb>data table notebook</a>'\n",
              "          + ' to learn more about interactive tables.';\n",
              "        element.innerHTML = '';\n",
              "        dataTable['output_type'] = 'display_data';\n",
              "        await google.colab.output.renderOutput(dataTable, element);\n",
              "        const docLink = document.createElement('div');\n",
              "        docLink.innerHTML = docLinkHtml;\n",
              "        element.appendChild(docLink);\n",
              "      }\n",
              "    </script>\n",
              "  </div>\n",
              "\n",
              "\n",
              "<div id=\"df-121f6942-9ff7-41cb-9511-099a4c0aad01\">\n",
              "  <button class=\"colab-df-quickchart\" onclick=\"quickchart('df-121f6942-9ff7-41cb-9511-099a4c0aad01')\"\n",
              "            title=\"Suggest charts\"\n",
              "            style=\"display:none;\">\n",
              "\n",
              "<svg xmlns=\"http://www.w3.org/2000/svg\" height=\"24px\"viewBox=\"0 0 24 24\"\n",
              "     width=\"24px\">\n",
              "    <g>\n",
              "        <path d=\"M19 3H5c-1.1 0-2 .9-2 2v14c0 1.1.9 2 2 2h14c1.1 0 2-.9 2-2V5c0-1.1-.9-2-2-2zM9 17H7v-7h2v7zm4 0h-2V7h2v10zm4 0h-2v-4h2v4z\"/>\n",
              "    </g>\n",
              "</svg>\n",
              "  </button>\n",
              "\n",
              "<style>\n",
              "  .colab-df-quickchart {\n",
              "      --bg-color: #E8F0FE;\n",
              "      --fill-color: #1967D2;\n",
              "      --hover-bg-color: #E2EBFA;\n",
              "      --hover-fill-color: #174EA6;\n",
              "      --disabled-fill-color: #AAA;\n",
              "      --disabled-bg-color: #DDD;\n",
              "  }\n",
              "\n",
              "  [theme=dark] .colab-df-quickchart {\n",
              "      --bg-color: #3B4455;\n",
              "      --fill-color: #D2E3FC;\n",
              "      --hover-bg-color: #434B5C;\n",
              "      --hover-fill-color: #FFFFFF;\n",
              "      --disabled-bg-color: #3B4455;\n",
              "      --disabled-fill-color: #666;\n",
              "  }\n",
              "\n",
              "  .colab-df-quickchart {\n",
              "    background-color: var(--bg-color);\n",
              "    border: none;\n",
              "    border-radius: 50%;\n",
              "    cursor: pointer;\n",
              "    display: none;\n",
              "    fill: var(--fill-color);\n",
              "    height: 32px;\n",
              "    padding: 0;\n",
              "    width: 32px;\n",
              "  }\n",
              "\n",
              "  .colab-df-quickchart:hover {\n",
              "    background-color: var(--hover-bg-color);\n",
              "    box-shadow: 0 1px 2px rgba(60, 64, 67, 0.3), 0 1px 3px 1px rgba(60, 64, 67, 0.15);\n",
              "    fill: var(--button-hover-fill-color);\n",
              "  }\n",
              "\n",
              "  .colab-df-quickchart-complete:disabled,\n",
              "  .colab-df-quickchart-complete:disabled:hover {\n",
              "    background-color: var(--disabled-bg-color);\n",
              "    fill: var(--disabled-fill-color);\n",
              "    box-shadow: none;\n",
              "  }\n",
              "\n",
              "  .colab-df-spinner {\n",
              "    border: 2px solid var(--fill-color);\n",
              "    border-color: transparent;\n",
              "    border-bottom-color: var(--fill-color);\n",
              "    animation:\n",
              "      spin 1s steps(1) infinite;\n",
              "  }\n",
              "\n",
              "  @keyframes spin {\n",
              "    0% {\n",
              "      border-color: transparent;\n",
              "      border-bottom-color: var(--fill-color);\n",
              "      border-left-color: var(--fill-color);\n",
              "    }\n",
              "    20% {\n",
              "      border-color: transparent;\n",
              "      border-left-color: var(--fill-color);\n",
              "      border-top-color: var(--fill-color);\n",
              "    }\n",
              "    30% {\n",
              "      border-color: transparent;\n",
              "      border-left-color: var(--fill-color);\n",
              "      border-top-color: var(--fill-color);\n",
              "      border-right-color: var(--fill-color);\n",
              "    }\n",
              "    40% {\n",
              "      border-color: transparent;\n",
              "      border-right-color: var(--fill-color);\n",
              "      border-top-color: var(--fill-color);\n",
              "    }\n",
              "    60% {\n",
              "      border-color: transparent;\n",
              "      border-right-color: var(--fill-color);\n",
              "    }\n",
              "    80% {\n",
              "      border-color: transparent;\n",
              "      border-right-color: var(--fill-color);\n",
              "      border-bottom-color: var(--fill-color);\n",
              "    }\n",
              "    90% {\n",
              "      border-color: transparent;\n",
              "      border-bottom-color: var(--fill-color);\n",
              "    }\n",
              "  }\n",
              "</style>\n",
              "\n",
              "  <script>\n",
              "    async function quickchart(key) {\n",
              "      const quickchartButtonEl =\n",
              "        document.querySelector('#' + key + ' button');\n",
              "      quickchartButtonEl.disabled = true;  // To prevent multiple clicks.\n",
              "      quickchartButtonEl.classList.add('colab-df-spinner');\n",
              "      try {\n",
              "        const charts = await google.colab.kernel.invokeFunction(\n",
              "            'suggestCharts', [key], {});\n",
              "      } catch (error) {\n",
              "        console.error('Error during call to suggestCharts:', error);\n",
              "      }\n",
              "      quickchartButtonEl.classList.remove('colab-df-spinner');\n",
              "      quickchartButtonEl.classList.add('colab-df-quickchart-complete');\n",
              "    }\n",
              "    (() => {\n",
              "      let quickchartButtonEl =\n",
              "        document.querySelector('#df-121f6942-9ff7-41cb-9511-099a4c0aad01 button');\n",
              "      quickchartButtonEl.style.display =\n",
              "        google.colab.kernel.accessAllowed ? 'block' : 'none';\n",
              "    })();\n",
              "  </script>\n",
              "</div>\n",
              "    </div>\n",
              "  </div>\n"
            ]
          },
          "metadata": {},
          "execution_count": 23
        }
      ]
    },
    {
      "cell_type": "markdown",
      "source": [
        "## Generate Fake Data"
      ],
      "metadata": {
        "id": "Wzym3TIOOoEG"
      }
    },
    {
      "cell_type": "code",
      "source": [
        "import pandas as pd\n",
        "\n",
        "# Assuming 'df' is your original DataFrame with 'DATETIME' column\n",
        "df['DATETIME'] = pd.to_datetime(df['DATETIME'])\n",
        "\n",
        "# Create a complete date range\n",
        "complete_date_range = pd.date_range(start=df['DATETIME'].min(), end=df['DATETIME'].max(), freq='D')\n",
        "\n",
        "# Create a DataFrame with the complete date range\n",
        "complete_df = pd.DataFrame({'DATETIME': complete_date_range})\n",
        "\n",
        "# Merge with the original DataFrame\n",
        "merged_df = pd.merge(complete_df, df, on='DATETIME', how='left')\n",
        "\n",
        "# Sort the merged DataFrame by date\n",
        "merged_df = merged_df.sort_values(by='DATETIME')\n",
        "\n",
        "df = merged_df\n",
        "\n",
        "# Convert 'DATETIME' to datetime format\n",
        "df['DATETIME'] = pd.to_datetime(df['DATETIME'])\n",
        "\n",
        "# Set 'DATETIME' as the index\n",
        "df.set_index('DATETIME', inplace=True)\n",
        "\n",
        "# Perform time-based interpolation\n",
        "df.interpolate(method='time', inplace=True)\n",
        "\n",
        "# Reset the index if needed\n",
        "df.reset_index(inplace=True)\n",
        "\n",
        "# Display the updated DataFrame\n",
        "print(df.info())\n",
        "main_data = df\n",
        "\n",
        "output_file_path = '/content/drive/MyDrive/Colab Notebooks/SOFT_PROJECT/Data/main_data.xlsx'\n",
        "main_data.to_excel(output_file_path, index=False)\n"
      ],
      "metadata": {
        "colab": {
          "base_uri": "https://localhost:8080/"
        },
        "id": "lGelaC3rOtxA",
        "outputId": "5c6fbe61-fa90-4a1b-812d-3521699ab6fa"
      },
      "execution_count": null,
      "outputs": [
        {
          "output_type": "stream",
          "name": "stdout",
          "text": [
            "<class 'pandas.core.frame.DataFrame'>\n",
            "RangeIndex: 8533 entries, 0 to 8532\n",
            "Data columns (total 10 columns):\n",
            " #   Column         Non-Null Count  Dtype         \n",
            "---  ------         --------------  -----         \n",
            " 0   DATETIME       8533 non-null   datetime64[ns]\n",
            " 1   TEMP(C)        8533 non-null   float64       \n",
            " 2   PH(m)          8533 non-null   float64       \n",
            " 3   DO             8533 non-null   float64       \n",
            " 4   SALINITY(PPT)  8533 non-null   float64       \n",
            " 5   TDS(Mg/L)      8533 non-null   float64       \n",
            " 6   EC(MICROS)/CM  8533 non-null   float64       \n",
            " 7   TRANSPARENCY   8533 non-null   float64       \n",
            " 8   FE(Mg/L)       8533 non-null   float64       \n",
            " 9   CI(Mg/L)       8533 non-null   float64       \n",
            "dtypes: datetime64[ns](1), float64(9)\n",
            "memory usage: 666.8 KB\n",
            "None\n"
          ]
        }
      ]
    },
    {
      "cell_type": "markdown",
      "source": [
        "# Calculation for WQI"
      ],
      "metadata": {
        "id": "H5t4yvAhPTE4"
      }
    },
    {
      "cell_type": "markdown",
      "source": [
        "## Finding mean , STD ,min , max"
      ],
      "metadata": {
        "id": "TaAObW4JPZbR"
      }
    },
    {
      "cell_type": "code",
      "source": [
        "statistics_summary = df.describe().transpose()[['mean', 'std', 'min', 'max']]\n",
        "print(statistics_summary)"
      ],
      "metadata": {
        "colab": {
          "base_uri": "https://localhost:8080/"
        },
        "id": "ikLt2MR5PY1X",
        "outputId": "10c7581d-a9f7-4eab-8a89-aafb2a35bd12"
      },
      "execution_count": null,
      "outputs": [
        {
          "output_type": "stream",
          "name": "stdout",
          "text": [
            "                     mean         std        min      max\n",
            "TEMP(C)         25.090188    5.905009  15.290818    35.40\n",
            "PH(m)            7.207029    0.666406   4.260000     9.50\n",
            "DO               4.115831    3.347821   0.000000    23.30\n",
            "SALINITY(PPT)    0.133261    0.161044   0.000000     1.70\n",
            "TDS(Mg/L)      166.893554  166.274213   0.060000   998.00\n",
            "EC(MICROS)/CM  363.566661  279.953791   6.460000  1746.00\n",
            "TRANSPARENCY    42.168725   20.030975   0.200000   360.00\n",
            "FE(Mg/L)         0.441198    0.428791   0.000000     3.36\n",
            "CI(Mg/L)        29.186603   31.551099   0.260000   197.00\n"
          ]
        }
      ]
    },
    {
      "cell_type": "markdown",
      "source": [
        "## Setting the standard values"
      ],
      "metadata": {
        "id": "aSCohxeJREaF"
      }
    },
    {
      "cell_type": "code",
      "source": [
        "DATE =0\n",
        "TEMP = 28\n",
        "PH = 8.5\n",
        "DO = 5\n",
        "SALINITY = 0.5\n",
        "TDS = 500\n",
        "EC = 300\n",
        "TRANSPARENCY = 28\n",
        "FE = 0.3\n",
        "CL = 250\n",
        "\n",
        "\n",
        "K = 0.267971\n",
        "# Using them make a array named STANDARD_VALUES\n",
        "\n",
        "STANDARD_VALUES = [ DATE,TEMP, PH, DO, SALINITY, TDS, EC, TRANSPARENCY, FE, CL]\n",
        "df.head()"
      ],
      "metadata": {
        "colab": {
          "base_uri": "https://localhost:8080/",
          "height": 206
        },
        "id": "pspV1Eo5RDNr",
        "outputId": "5a56e480-815f-4cfb-d891-9d0844225daf"
      },
      "execution_count": null,
      "outputs": [
        {
          "output_type": "execute_result",
          "data": {
            "text/plain": [
              "    DATETIME  TEMP(C)  PH(m)    DO  SALINITY(PPT)  TDS(Mg/L)  EC(MICROS)/CM  \\\n",
              "0 2001-04-14   30.800  7.850  6.80           0.05      357.0         715.00   \n",
              "1 2001-04-15   30.775  7.845  7.05           0.05      291.2         581.25   \n",
              "2 2001-04-16   30.750  7.840  7.30           0.05      225.4         447.50   \n",
              "3 2001-04-17   30.725  7.835  7.55           0.05      159.6         313.75   \n",
              "4 2001-04-18   30.700  7.830  7.80           0.05       93.8         180.00   \n",
              "\n",
              "   TRANSPARENCY  FE(Mg/L)  CI(Mg/L)  \n",
              "0         22.86       1.0       3.0  \n",
              "1         22.86       1.0       3.0  \n",
              "2         22.86       1.0       3.0  \n",
              "3         22.86       1.0       3.0  \n",
              "4         22.86       1.0       3.0  "
            ],
            "text/html": [
              "\n",
              "  <div id=\"df-f58526de-2627-499b-837f-6b6442c2c375\" class=\"colab-df-container\">\n",
              "    <div>\n",
              "<style scoped>\n",
              "    .dataframe tbody tr th:only-of-type {\n",
              "        vertical-align: middle;\n",
              "    }\n",
              "\n",
              "    .dataframe tbody tr th {\n",
              "        vertical-align: top;\n",
              "    }\n",
              "\n",
              "    .dataframe thead th {\n",
              "        text-align: right;\n",
              "    }\n",
              "</style>\n",
              "<table border=\"1\" class=\"dataframe\">\n",
              "  <thead>\n",
              "    <tr style=\"text-align: right;\">\n",
              "      <th></th>\n",
              "      <th>DATETIME</th>\n",
              "      <th>TEMP(C)</th>\n",
              "      <th>PH(m)</th>\n",
              "      <th>DO</th>\n",
              "      <th>SALINITY(PPT)</th>\n",
              "      <th>TDS(Mg/L)</th>\n",
              "      <th>EC(MICROS)/CM</th>\n",
              "      <th>TRANSPARENCY</th>\n",
              "      <th>FE(Mg/L)</th>\n",
              "      <th>CI(Mg/L)</th>\n",
              "    </tr>\n",
              "  </thead>\n",
              "  <tbody>\n",
              "    <tr>\n",
              "      <th>0</th>\n",
              "      <td>2001-04-14</td>\n",
              "      <td>30.800</td>\n",
              "      <td>7.850</td>\n",
              "      <td>6.80</td>\n",
              "      <td>0.05</td>\n",
              "      <td>357.0</td>\n",
              "      <td>715.00</td>\n",
              "      <td>22.86</td>\n",
              "      <td>1.0</td>\n",
              "      <td>3.0</td>\n",
              "    </tr>\n",
              "    <tr>\n",
              "      <th>1</th>\n",
              "      <td>2001-04-15</td>\n",
              "      <td>30.775</td>\n",
              "      <td>7.845</td>\n",
              "      <td>7.05</td>\n",
              "      <td>0.05</td>\n",
              "      <td>291.2</td>\n",
              "      <td>581.25</td>\n",
              "      <td>22.86</td>\n",
              "      <td>1.0</td>\n",
              "      <td>3.0</td>\n",
              "    </tr>\n",
              "    <tr>\n",
              "      <th>2</th>\n",
              "      <td>2001-04-16</td>\n",
              "      <td>30.750</td>\n",
              "      <td>7.840</td>\n",
              "      <td>7.30</td>\n",
              "      <td>0.05</td>\n",
              "      <td>225.4</td>\n",
              "      <td>447.50</td>\n",
              "      <td>22.86</td>\n",
              "      <td>1.0</td>\n",
              "      <td>3.0</td>\n",
              "    </tr>\n",
              "    <tr>\n",
              "      <th>3</th>\n",
              "      <td>2001-04-17</td>\n",
              "      <td>30.725</td>\n",
              "      <td>7.835</td>\n",
              "      <td>7.55</td>\n",
              "      <td>0.05</td>\n",
              "      <td>159.6</td>\n",
              "      <td>313.75</td>\n",
              "      <td>22.86</td>\n",
              "      <td>1.0</td>\n",
              "      <td>3.0</td>\n",
              "    </tr>\n",
              "    <tr>\n",
              "      <th>4</th>\n",
              "      <td>2001-04-18</td>\n",
              "      <td>30.700</td>\n",
              "      <td>7.830</td>\n",
              "      <td>7.80</td>\n",
              "      <td>0.05</td>\n",
              "      <td>93.8</td>\n",
              "      <td>180.00</td>\n",
              "      <td>22.86</td>\n",
              "      <td>1.0</td>\n",
              "      <td>3.0</td>\n",
              "    </tr>\n",
              "  </tbody>\n",
              "</table>\n",
              "</div>\n",
              "    <div class=\"colab-df-buttons\">\n",
              "\n",
              "  <div class=\"colab-df-container\">\n",
              "    <button class=\"colab-df-convert\" onclick=\"convertToInteractive('df-f58526de-2627-499b-837f-6b6442c2c375')\"\n",
              "            title=\"Convert this dataframe to an interactive table.\"\n",
              "            style=\"display:none;\">\n",
              "\n",
              "  <svg xmlns=\"http://www.w3.org/2000/svg\" height=\"24px\" viewBox=\"0 -960 960 960\">\n",
              "    <path d=\"M120-120v-720h720v720H120Zm60-500h600v-160H180v160Zm220 220h160v-160H400v160Zm0 220h160v-160H400v160ZM180-400h160v-160H180v160Zm440 0h160v-160H620v160ZM180-180h160v-160H180v160Zm440 0h160v-160H620v160Z\"/>\n",
              "  </svg>\n",
              "    </button>\n",
              "\n",
              "  <style>\n",
              "    .colab-df-container {\n",
              "      display:flex;\n",
              "      gap: 12px;\n",
              "    }\n",
              "\n",
              "    .colab-df-convert {\n",
              "      background-color: #E8F0FE;\n",
              "      border: none;\n",
              "      border-radius: 50%;\n",
              "      cursor: pointer;\n",
              "      display: none;\n",
              "      fill: #1967D2;\n",
              "      height: 32px;\n",
              "      padding: 0 0 0 0;\n",
              "      width: 32px;\n",
              "    }\n",
              "\n",
              "    .colab-df-convert:hover {\n",
              "      background-color: #E2EBFA;\n",
              "      box-shadow: 0px 1px 2px rgba(60, 64, 67, 0.3), 0px 1px 3px 1px rgba(60, 64, 67, 0.15);\n",
              "      fill: #174EA6;\n",
              "    }\n",
              "\n",
              "    .colab-df-buttons div {\n",
              "      margin-bottom: 4px;\n",
              "    }\n",
              "\n",
              "    [theme=dark] .colab-df-convert {\n",
              "      background-color: #3B4455;\n",
              "      fill: #D2E3FC;\n",
              "    }\n",
              "\n",
              "    [theme=dark] .colab-df-convert:hover {\n",
              "      background-color: #434B5C;\n",
              "      box-shadow: 0px 1px 3px 1px rgba(0, 0, 0, 0.15);\n",
              "      filter: drop-shadow(0px 1px 2px rgba(0, 0, 0, 0.3));\n",
              "      fill: #FFFFFF;\n",
              "    }\n",
              "  </style>\n",
              "\n",
              "    <script>\n",
              "      const buttonEl =\n",
              "        document.querySelector('#df-f58526de-2627-499b-837f-6b6442c2c375 button.colab-df-convert');\n",
              "      buttonEl.style.display =\n",
              "        google.colab.kernel.accessAllowed ? 'block' : 'none';\n",
              "\n",
              "      async function convertToInteractive(key) {\n",
              "        const element = document.querySelector('#df-f58526de-2627-499b-837f-6b6442c2c375');\n",
              "        const dataTable =\n",
              "          await google.colab.kernel.invokeFunction('convertToInteractive',\n",
              "                                                    [key], {});\n",
              "        if (!dataTable) return;\n",
              "\n",
              "        const docLinkHtml = 'Like what you see? Visit the ' +\n",
              "          '<a target=\"_blank\" href=https://colab.research.google.com/notebooks/data_table.ipynb>data table notebook</a>'\n",
              "          + ' to learn more about interactive tables.';\n",
              "        element.innerHTML = '';\n",
              "        dataTable['output_type'] = 'display_data';\n",
              "        await google.colab.output.renderOutput(dataTable, element);\n",
              "        const docLink = document.createElement('div');\n",
              "        docLink.innerHTML = docLinkHtml;\n",
              "        element.appendChild(docLink);\n",
              "      }\n",
              "    </script>\n",
              "  </div>\n",
              "\n",
              "\n",
              "<div id=\"df-fca6088b-d7a1-47be-978a-e7fd2808761b\">\n",
              "  <button class=\"colab-df-quickchart\" onclick=\"quickchart('df-fca6088b-d7a1-47be-978a-e7fd2808761b')\"\n",
              "            title=\"Suggest charts\"\n",
              "            style=\"display:none;\">\n",
              "\n",
              "<svg xmlns=\"http://www.w3.org/2000/svg\" height=\"24px\"viewBox=\"0 0 24 24\"\n",
              "     width=\"24px\">\n",
              "    <g>\n",
              "        <path d=\"M19 3H5c-1.1 0-2 .9-2 2v14c0 1.1.9 2 2 2h14c1.1 0 2-.9 2-2V5c0-1.1-.9-2-2-2zM9 17H7v-7h2v7zm4 0h-2V7h2v10zm4 0h-2v-4h2v4z\"/>\n",
              "    </g>\n",
              "</svg>\n",
              "  </button>\n",
              "\n",
              "<style>\n",
              "  .colab-df-quickchart {\n",
              "      --bg-color: #E8F0FE;\n",
              "      --fill-color: #1967D2;\n",
              "      --hover-bg-color: #E2EBFA;\n",
              "      --hover-fill-color: #174EA6;\n",
              "      --disabled-fill-color: #AAA;\n",
              "      --disabled-bg-color: #DDD;\n",
              "  }\n",
              "\n",
              "  [theme=dark] .colab-df-quickchart {\n",
              "      --bg-color: #3B4455;\n",
              "      --fill-color: #D2E3FC;\n",
              "      --hover-bg-color: #434B5C;\n",
              "      --hover-fill-color: #FFFFFF;\n",
              "      --disabled-bg-color: #3B4455;\n",
              "      --disabled-fill-color: #666;\n",
              "  }\n",
              "\n",
              "  .colab-df-quickchart {\n",
              "    background-color: var(--bg-color);\n",
              "    border: none;\n",
              "    border-radius: 50%;\n",
              "    cursor: pointer;\n",
              "    display: none;\n",
              "    fill: var(--fill-color);\n",
              "    height: 32px;\n",
              "    padding: 0;\n",
              "    width: 32px;\n",
              "  }\n",
              "\n",
              "  .colab-df-quickchart:hover {\n",
              "    background-color: var(--hover-bg-color);\n",
              "    box-shadow: 0 1px 2px rgba(60, 64, 67, 0.3), 0 1px 3px 1px rgba(60, 64, 67, 0.15);\n",
              "    fill: var(--button-hover-fill-color);\n",
              "  }\n",
              "\n",
              "  .colab-df-quickchart-complete:disabled,\n",
              "  .colab-df-quickchart-complete:disabled:hover {\n",
              "    background-color: var(--disabled-bg-color);\n",
              "    fill: var(--disabled-fill-color);\n",
              "    box-shadow: none;\n",
              "  }\n",
              "\n",
              "  .colab-df-spinner {\n",
              "    border: 2px solid var(--fill-color);\n",
              "    border-color: transparent;\n",
              "    border-bottom-color: var(--fill-color);\n",
              "    animation:\n",
              "      spin 1s steps(1) infinite;\n",
              "  }\n",
              "\n",
              "  @keyframes spin {\n",
              "    0% {\n",
              "      border-color: transparent;\n",
              "      border-bottom-color: var(--fill-color);\n",
              "      border-left-color: var(--fill-color);\n",
              "    }\n",
              "    20% {\n",
              "      border-color: transparent;\n",
              "      border-left-color: var(--fill-color);\n",
              "      border-top-color: var(--fill-color);\n",
              "    }\n",
              "    30% {\n",
              "      border-color: transparent;\n",
              "      border-left-color: var(--fill-color);\n",
              "      border-top-color: var(--fill-color);\n",
              "      border-right-color: var(--fill-color);\n",
              "    }\n",
              "    40% {\n",
              "      border-color: transparent;\n",
              "      border-right-color: var(--fill-color);\n",
              "      border-top-color: var(--fill-color);\n",
              "    }\n",
              "    60% {\n",
              "      border-color: transparent;\n",
              "      border-right-color: var(--fill-color);\n",
              "    }\n",
              "    80% {\n",
              "      border-color: transparent;\n",
              "      border-right-color: var(--fill-color);\n",
              "      border-bottom-color: var(--fill-color);\n",
              "    }\n",
              "    90% {\n",
              "      border-color: transparent;\n",
              "      border-bottom-color: var(--fill-color);\n",
              "    }\n",
              "  }\n",
              "</style>\n",
              "\n",
              "  <script>\n",
              "    async function quickchart(key) {\n",
              "      const quickchartButtonEl =\n",
              "        document.querySelector('#' + key + ' button');\n",
              "      quickchartButtonEl.disabled = true;  // To prevent multiple clicks.\n",
              "      quickchartButtonEl.classList.add('colab-df-spinner');\n",
              "      try {\n",
              "        const charts = await google.colab.kernel.invokeFunction(\n",
              "            'suggestCharts', [key], {});\n",
              "      } catch (error) {\n",
              "        console.error('Error during call to suggestCharts:', error);\n",
              "      }\n",
              "      quickchartButtonEl.classList.remove('colab-df-spinner');\n",
              "      quickchartButtonEl.classList.add('colab-df-quickchart-complete');\n",
              "    }\n",
              "    (() => {\n",
              "      let quickchartButtonEl =\n",
              "        document.querySelector('#df-fca6088b-d7a1-47be-978a-e7fd2808761b button');\n",
              "      quickchartButtonEl.style.display =\n",
              "        google.colab.kernel.accessAllowed ? 'block' : 'none';\n",
              "    })();\n",
              "  </script>\n",
              "</div>\n",
              "    </div>\n",
              "  </div>\n"
            ]
          },
          "metadata": {},
          "execution_count": 26
        }
      ]
    },
    {
      "cell_type": "markdown",
      "source": [
        "## Calculating the WQI"
      ],
      "metadata": {
        "id": "kZZxkzueejTK"
      }
    },
    {
      "cell_type": "markdown",
      "source": [
        "## Getting the PH Q values\n"
      ],
      "metadata": {
        "id": "n9Mtfsptj8d_"
      }
    },
    {
      "cell_type": "code",
      "source": [
        "import pandas as pd\n",
        "import numpy as np\n",
        "\n",
        "\n",
        "# Load data from Excel\n",
        "water_ph_data = df[['PH(m)']].copy()\n",
        "\n",
        "# Define the Q values corresponding to specific pH values\n",
        "q_values = {\n",
        "    2.0: 2,\n",
        "    2.2:2,\n",
        "    2.4:3,\n",
        "    2.6:3,\n",
        "    2.8:4,\n",
        "    3.0: 4,\n",
        "    3.2:5,\n",
        "    3.6: 7,\n",
        "    3.8:8,\n",
        "    4.0: 9,\n",
        "    4.1: 10,\n",
        "    4.2:11,\n",
        "    4.4:14,\n",
        "    4.5: 15,\n",
        "    4.6:17,\n",
        "    4.8: 20,\n",
        "    5.1: 30,\n",
        "    6.2: 60,\n",
        "    6.8: 83,\n",
        "    7.0: 88,\n",
        "    7.1: 90,\n",
        "    7.2: 92,\n",
        "    7.4: 93,\n",
        "    7.6: 92,\n",
        "    7.8: 90,\n",
        "    8.0: 84,\n",
        "    8.9: 52,\n",
        "    9.7: 26,\n",
        "    10.0: 20,\n",
        "    10.3: 15,\n",
        "    10.7: 11,\n",
        "    10.8: 10,\n",
        "    11.0: 8,\n",
        "    11.5: 5,\n",
        "    12.00001: 3,\n",
        "}\n",
        "\n",
        "# Function to calculate Q value for each pH value using interpolation\n",
        "def calculate_q_value(ph):\n",
        "    known_pH_values = list(q_values.keys())\n",
        "    known_q_values = list(q_values.values())\n",
        "\n",
        "    # Perform linear interpolation to find the Q value\n",
        "    q_value = np.interp(ph, known_pH_values, known_q_values, left=None, right=None, period=None)\n",
        "    return q_value\n",
        "\n",
        "# Apply the Q value calculation to the 'pH' column in the DataFrame\n",
        "water_ph_data['Q_value'] = water_ph_data['PH(m)'].apply(calculate_q_value)\n",
        "\n",
        "# Display the resulting DataFrame with Q values\n",
        "print(water_ph_data[['PH(m)', 'Q_value']])\n",
        "\n",
        "#water_data.to_csv('filtered_data.csv', index = False)\n"
      ],
      "metadata": {
        "colab": {
          "base_uri": "https://localhost:8080/"
        },
        "id": "zLxVmFIRkG0T",
        "outputId": "656fcc35-4092-402f-de0a-336214e931a1"
      },
      "execution_count": null,
      "outputs": [
        {
          "output_type": "stream",
          "name": "stdout",
          "text": [
            "      PH(m)    Q_value\n",
            "0     7.850  88.500000\n",
            "1     7.845  88.650000\n",
            "2     7.840  88.800000\n",
            "3     7.835  88.950000\n",
            "4     7.830  89.100000\n",
            "...     ...        ...\n",
            "8528  7.000  88.000000\n",
            "8529  6.830  83.750000\n",
            "8530  6.720  79.933333\n",
            "8531  6.900  85.500000\n",
            "8532  6.500  71.500000\n",
            "\n",
            "[8533 rows x 2 columns]\n"
          ]
        }
      ]
    },
    {
      "cell_type": "markdown",
      "source": [
        "## Getting the temp Q value"
      ],
      "metadata": {
        "id": "f4qigbZRk_uw"
      }
    },
    {
      "cell_type": "code",
      "source": [
        "import pandas as pd\n",
        "import numpy as np\n",
        "\n",
        "\n",
        "# Load data from Excel\n",
        "water_temp_data = df[['TEMP(C)']].copy()\n",
        "\n",
        "# Define the Q values corresponding to specific Temperature values\n",
        "q_values_temperature = {\n",
        "    # Define Temperature values and corresponding Q values\n",
        "    # Example:\n",
        "    -10:55,\n",
        "    -9:59,\n",
        "    -8:63,\n",
        "    -7:66,\n",
        "    -6:70,\n",
        "    -5:74,\n",
        "    -4:78,\n",
        "    -3:82,\n",
        "    -2:85,\n",
        "    -1:89,\n",
        "    0:93,\n",
        "    1:89,\n",
        "    2:85,\n",
        "    3:81,\n",
        "    4:77,\n",
        "    5:73,\n",
        "    6:67,\n",
        "    7:61,\n",
        "    8:56,\n",
        "    9:50,\n",
        "    10:45,\n",
        "    11:40,\n",
        "    12:36,\n",
        "    13:34,\n",
        "    14:33,\n",
        "    15:31,\n",
        "    16:29,\n",
        "    17:27,\n",
        "    18:26,\n",
        "    19:24,\n",
        "    20:22,\n",
        "    21:20,\n",
        "    22:19,\n",
        "    23:18,\n",
        "    24:17,\n",
        "    25:16,\n",
        "    26:14,\n",
        "    27:13,\n",
        "    28:12,\n",
        "    29:11,\n",
        "    30:10\n",
        "\n",
        "}\n",
        "\n",
        "# Function to calculate Q value for each Temperature value using interpolation\n",
        "def calculate_q_value_temperature(temperature):\n",
        "    known_temperature_values = list(q_values_temperature.keys())\n",
        "    known_q_values = list(q_values_temperature.values())\n",
        "\n",
        "    # Perform linear interpolation to find the Q value\n",
        "    q_value_temperature = np.interp(temperature, known_temperature_values, known_q_values, left=None, right=None, period=None)\n",
        "    return q_value_temperature\n",
        "\n",
        "# Apply the Q value calculation to the 'Temperature' column in the DataFrame\n",
        "water_temp_data['Q_value_Temperature'] = water_temp_data['TEMP(C)'].apply(calculate_q_value_temperature)\n",
        "\n",
        "# Display the resulting DataFrame with Q values for Temperature\n",
        "print(water_temp_data[['TEMP(C)', 'Q_value_Temperature']])\n",
        "#water_data_temperature.to_csv('filtered_data.csv', index = False)\n"
      ],
      "metadata": {
        "colab": {
          "base_uri": "https://localhost:8080/"
        },
        "id": "2Z7hPUr6lDBq",
        "outputId": "c7043402-5244-4349-fae0-c8e9f140c38b"
      },
      "execution_count": null,
      "outputs": [
        {
          "output_type": "stream",
          "name": "stdout",
          "text": [
            "      TEMP(C)  Q_value_Temperature\n",
            "0      30.800                 10.0\n",
            "1      30.775                 10.0\n",
            "2      30.750                 10.0\n",
            "3      30.725                 10.0\n",
            "4      30.700                 10.0\n",
            "...       ...                  ...\n",
            "8528   31.100                 10.0\n",
            "8529   31.800                 10.0\n",
            "8530   31.800                 10.0\n",
            "8531   31.000                 10.0\n",
            "8532   31.000                 10.0\n",
            "\n",
            "[8533 rows x 2 columns]\n"
          ]
        }
      ]
    },
    {
      "cell_type": "markdown",
      "source": [
        "## Getting the TDS Q value"
      ],
      "metadata": {
        "id": "vEZLws1bmJVc"
      }
    },
    {
      "cell_type": "code",
      "source": [
        "import pandas as pd\n",
        "import numpy as np\n",
        "\n",
        "\n",
        "# Load data from Excel\n",
        "\n",
        "water_tds_data = df[['TDS(Mg/L)']].copy()\n",
        "\n",
        "# Define the Q values corresponding to specific TDS values\n",
        "q_values_tds = {\n",
        "       0:79,\n",
        "       10:82,\n",
        "       20:84,\n",
        "       30:85,\n",
        "       40:86,\n",
        "       50:87,\n",
        "       60:87,\n",
        "       70:86,\n",
        "       80:85,\n",
        "       90:84,\n",
        "       100:83,\n",
        "       110:83,\n",
        "       120:82,\n",
        "       130:81,\n",
        "       140:80,\n",
        "       150:79,\n",
        "       160:78,\n",
        "       170:76,\n",
        "       180:75,\n",
        "       190:74,\n",
        "       200:73,\n",
        "       210:71,\n",
        "       220:70,\n",
        "       230:69,\n",
        "       240:67,\n",
        "       250:66,\n",
        "       260:65,\n",
        "       270:63,\n",
        "       280:62,\n",
        "       290:61,\n",
        "       300:60,\n",
        "       310:58,\n",
        "       320:57,\n",
        "       330:56,\n",
        "       340:54,\n",
        "       350:53,\n",
        "       360:52,\n",
        "       370:50,\n",
        "       380:49,\n",
        "       390:48,\n",
        "       400:47,\n",
        "       410:45,\n",
        "       420:44,\n",
        "       430:43,\n",
        "       440:41,\n",
        "       450:40,\n",
        "       460:38,\n",
        "       470:36,\n",
        "       480:35,\n",
        "       490:33,\n",
        "       500:31,\n",
        "       501:20,\n",
        "\n",
        "}\n",
        "\n",
        "# Function to calculate Q value for each TDS value using interpolation\n",
        "def calculate_q_value_tds(tds):\n",
        "    known_tds_values = list(q_values_tds.keys())\n",
        "    known_q_values = list(q_values_tds.values())\n",
        "\n",
        "    # Perform linear interpolation to find the Q value\n",
        "    q_value_tds = np.interp(tds, known_tds_values, known_q_values, left=None, right=None, period=None)\n",
        "    return q_value_tds\n",
        "\n",
        "# Apply the Q value calculation to the 'TDS' column in the DataFrame\n",
        "water_tds_data['Q_value_TDS'] = water_tds_data['TDS(Mg/L)'].apply(calculate_q_value_tds)\n",
        "\n",
        "# Display the resulting DataFrame with Q values for TDS\n",
        "print(water_tds_data[['TDS(Mg/L)', 'Q_value_TDS']])\n",
        "#water_data.to_csv('filtered_data.csv', index = False)\n"
      ],
      "metadata": {
        "colab": {
          "base_uri": "https://localhost:8080/"
        },
        "id": "22k-Qvj_mMZC",
        "outputId": "66b3d927-49b9-4af2-cfbb-b6404512ef63"
      },
      "execution_count": null,
      "outputs": [
        {
          "output_type": "stream",
          "name": "stdout",
          "text": [
            "      TDS(Mg/L)  Q_value_TDS\n",
            "0         357.0        52.30\n",
            "1         291.2        60.88\n",
            "2         225.4        69.46\n",
            "3         159.6        78.04\n",
            "4          93.8        83.62\n",
            "...         ...          ...\n",
            "8528       97.0        83.30\n",
            "8529      147.0        79.30\n",
            "8530      117.0        82.30\n",
            "8531      196.0        73.40\n",
            "8532      142.0        79.80\n",
            "\n",
            "[8533 rows x 2 columns]\n"
          ]
        }
      ]
    },
    {
      "cell_type": "markdown",
      "source": [
        "## Q values for DO"
      ],
      "metadata": {
        "id": "SqnUhAqJugg4"
      }
    },
    {
      "cell_type": "code",
      "source": [
        "# Load data from Excel\n",
        "water_do_data = df[['DO']].copy()\n",
        "\n",
        "# Define the Q values corresponding to specific DO values\n",
        "q_values_do = {\n",
        "    0: 25,\n",
        "    1: 30,\n",
        "    2: 35,\n",
        "    3: 40,\n",
        "    4: 45,\n",
        "    5: 50,\n",
        "    6: 55,\n",
        "    7: 60,\n",
        "    8: 65,\n",
        "    9: 70,\n",
        "    10: 75,\n",
        "    11: 80,\n",
        "    12: 85,\n",
        "    13: 90,\n",
        "    14: 95,\n",
        "    15: 100,\n",
        "}\n",
        "\n",
        "# Function to calculate Q value for each DO value using interpolation\n",
        "def calculate_q_value_do(do):\n",
        "    known_do_values = list(q_values_do.keys())\n",
        "    known_q_values = list(q_values_do.values())\n",
        "\n",
        "    # Perform linear interpolation to find the Q value\n",
        "    q_value_do = np.interp(do, known_do_values, known_q_values, left=None, right=None, period=None)\n",
        "    return q_value_do\n",
        "\n",
        "# Apply the Q value calculation to the 'DO' column in the DataFrame\n",
        "water_do_data['Q_value_DO'] = water_do_data['DO'].apply(calculate_q_value_do)\n",
        "\n",
        "# Display the resulting DataFrame with Q values for DO\n",
        "print(water_do_data[['DO', 'Q_value_DO']])\n"
      ],
      "metadata": {
        "id": "k5Y4C00YuyNw",
        "colab": {
          "base_uri": "https://localhost:8080/"
        },
        "outputId": "6daa9db9-5833-4758-dcbf-6ea9274c2b75"
      },
      "execution_count": null,
      "outputs": [
        {
          "output_type": "stream",
          "name": "stdout",
          "text": [
            "        DO  Q_value_DO\n",
            "0     6.80       59.00\n",
            "1     7.05       60.25\n",
            "2     7.30       61.50\n",
            "3     7.55       62.75\n",
            "4     7.80       64.00\n",
            "...    ...         ...\n",
            "8528  1.00       30.00\n",
            "8529  2.11       35.55\n",
            "8530  2.00       35.00\n",
            "8531  2.09       35.45\n",
            "8532  1.91       34.55\n",
            "\n",
            "[8533 rows x 2 columns]\n"
          ]
        }
      ]
    },
    {
      "cell_type": "code",
      "source": [
        "\n",
        "# Formula: WQI = Summation of (Wi * Qi)\n",
        "# Wi for each column is (K/Standard Value of that column)\n",
        "# Qi for each column is (Value of that column / Standard Value of that column) except the PH and DO columns\n",
        "# for PH column Qi is absolute of ((value of that column - 7) / (Standard Value of that column - 7))\n",
        "# for DO column Qi is absolute of ((value of that column - 14.6) / (Standard Value of that column - 14.6))\n",
        "# Do this only for the first 9 rows\n",
        "\n",
        "## Add a new column to the dataframe named as WQI\n",
        "pureInputData = df\n",
        "pureInputData['WQI'] = 0\n",
        "\n",
        "pureInputData.head()\n",
        "\n",
        "for index, row in pureInputData.iterrows():\n",
        "    summation = 0\n",
        "    # if index == 2:\n",
        "    #     break\n",
        "    for i in range(1, 10):\n",
        "        if i == 2:\n",
        "            wiqi = (K / STANDARD_VALUES[i]) * abs((row[i] - 7) / (STANDARD_VALUES[i] - 7))\n",
        "        elif i == 3:\n",
        "            wiqi = (K / STANDARD_VALUES[i]) * abs((row[i] - 14.6) / (STANDARD_VALUES[i] - 14.6))\n",
        "        else:\n",
        "            wiqi = (K / STANDARD_VALUES[i]) * abs(row[i] / STANDARD_VALUES[i])\n",
        "        summation += wiqi\n",
        "\n",
        "    pureInputData.at[index, 'WQI'] = (summation*100)\n",
        "    # print(\"WQI = \", summation)\n",
        "\n",
        "\n",
        "df = pureInputData\n",
        "df.head()"
      ],
      "metadata": {
        "colab": {
          "base_uri": "https://localhost:8080/",
          "height": 206
        },
        "id": "jRKDQxoYemW2",
        "outputId": "d29c038e-8d12-4c0d-c3d4-2afb4279a04b"
      },
      "execution_count": null,
      "outputs": [
        {
          "output_type": "execute_result",
          "data": {
            "text/plain": [
              "    DATETIME  TEMP(C)  PH(m)    DO  SALINITY(PPT)  TDS(Mg/L)  EC(MICROS)/CM  \\\n",
              "0 2001-04-14   30.800  7.850  6.80           0.05      357.0         715.00   \n",
              "1 2001-04-15   30.775  7.845  7.05           0.05      291.2         581.25   \n",
              "2 2001-04-16   30.750  7.840  7.30           0.05      225.4         447.50   \n",
              "3 2001-04-17   30.725  7.835  7.55           0.05      159.6         313.75   \n",
              "4 2001-04-18   30.700  7.830  7.80           0.05       93.8         180.00   \n",
              "\n",
              "   TRANSPARENCY  FE(Mg/L)  CI(Mg/L)         WQI  \n",
              "0         22.86       1.0       3.0  311.332516  \n",
              "1         22.86       1.0       3.0  311.134708  \n",
              "2         22.86       1.0       3.0  310.936900  \n",
              "3         22.86       1.0       3.0  310.739092  \n",
              "4         22.86       1.0       3.0  310.541284  "
            ],
            "text/html": [
              "\n",
              "  <div id=\"df-aa3a4550-1062-44e1-92f4-6fa7e2aa2aa7\" class=\"colab-df-container\">\n",
              "    <div>\n",
              "<style scoped>\n",
              "    .dataframe tbody tr th:only-of-type {\n",
              "        vertical-align: middle;\n",
              "    }\n",
              "\n",
              "    .dataframe tbody tr th {\n",
              "        vertical-align: top;\n",
              "    }\n",
              "\n",
              "    .dataframe thead th {\n",
              "        text-align: right;\n",
              "    }\n",
              "</style>\n",
              "<table border=\"1\" class=\"dataframe\">\n",
              "  <thead>\n",
              "    <tr style=\"text-align: right;\">\n",
              "      <th></th>\n",
              "      <th>DATETIME</th>\n",
              "      <th>TEMP(C)</th>\n",
              "      <th>PH(m)</th>\n",
              "      <th>DO</th>\n",
              "      <th>SALINITY(PPT)</th>\n",
              "      <th>TDS(Mg/L)</th>\n",
              "      <th>EC(MICROS)/CM</th>\n",
              "      <th>TRANSPARENCY</th>\n",
              "      <th>FE(Mg/L)</th>\n",
              "      <th>CI(Mg/L)</th>\n",
              "      <th>WQI</th>\n",
              "    </tr>\n",
              "  </thead>\n",
              "  <tbody>\n",
              "    <tr>\n",
              "      <th>0</th>\n",
              "      <td>2001-04-14</td>\n",
              "      <td>30.800</td>\n",
              "      <td>7.850</td>\n",
              "      <td>6.80</td>\n",
              "      <td>0.05</td>\n",
              "      <td>357.0</td>\n",
              "      <td>715.00</td>\n",
              "      <td>22.86</td>\n",
              "      <td>1.0</td>\n",
              "      <td>3.0</td>\n",
              "      <td>311.332516</td>\n",
              "    </tr>\n",
              "    <tr>\n",
              "      <th>1</th>\n",
              "      <td>2001-04-15</td>\n",
              "      <td>30.775</td>\n",
              "      <td>7.845</td>\n",
              "      <td>7.05</td>\n",
              "      <td>0.05</td>\n",
              "      <td>291.2</td>\n",
              "      <td>581.25</td>\n",
              "      <td>22.86</td>\n",
              "      <td>1.0</td>\n",
              "      <td>3.0</td>\n",
              "      <td>311.134708</td>\n",
              "    </tr>\n",
              "    <tr>\n",
              "      <th>2</th>\n",
              "      <td>2001-04-16</td>\n",
              "      <td>30.750</td>\n",
              "      <td>7.840</td>\n",
              "      <td>7.30</td>\n",
              "      <td>0.05</td>\n",
              "      <td>225.4</td>\n",
              "      <td>447.50</td>\n",
              "      <td>22.86</td>\n",
              "      <td>1.0</td>\n",
              "      <td>3.0</td>\n",
              "      <td>310.936900</td>\n",
              "    </tr>\n",
              "    <tr>\n",
              "      <th>3</th>\n",
              "      <td>2001-04-17</td>\n",
              "      <td>30.725</td>\n",
              "      <td>7.835</td>\n",
              "      <td>7.55</td>\n",
              "      <td>0.05</td>\n",
              "      <td>159.6</td>\n",
              "      <td>313.75</td>\n",
              "      <td>22.86</td>\n",
              "      <td>1.0</td>\n",
              "      <td>3.0</td>\n",
              "      <td>310.739092</td>\n",
              "    </tr>\n",
              "    <tr>\n",
              "      <th>4</th>\n",
              "      <td>2001-04-18</td>\n",
              "      <td>30.700</td>\n",
              "      <td>7.830</td>\n",
              "      <td>7.80</td>\n",
              "      <td>0.05</td>\n",
              "      <td>93.8</td>\n",
              "      <td>180.00</td>\n",
              "      <td>22.86</td>\n",
              "      <td>1.0</td>\n",
              "      <td>3.0</td>\n",
              "      <td>310.541284</td>\n",
              "    </tr>\n",
              "  </tbody>\n",
              "</table>\n",
              "</div>\n",
              "    <div class=\"colab-df-buttons\">\n",
              "\n",
              "  <div class=\"colab-df-container\">\n",
              "    <button class=\"colab-df-convert\" onclick=\"convertToInteractive('df-aa3a4550-1062-44e1-92f4-6fa7e2aa2aa7')\"\n",
              "            title=\"Convert this dataframe to an interactive table.\"\n",
              "            style=\"display:none;\">\n",
              "\n",
              "  <svg xmlns=\"http://www.w3.org/2000/svg\" height=\"24px\" viewBox=\"0 -960 960 960\">\n",
              "    <path d=\"M120-120v-720h720v720H120Zm60-500h600v-160H180v160Zm220 220h160v-160H400v160Zm0 220h160v-160H400v160ZM180-400h160v-160H180v160Zm440 0h160v-160H620v160ZM180-180h160v-160H180v160Zm440 0h160v-160H620v160Z\"/>\n",
              "  </svg>\n",
              "    </button>\n",
              "\n",
              "  <style>\n",
              "    .colab-df-container {\n",
              "      display:flex;\n",
              "      gap: 12px;\n",
              "    }\n",
              "\n",
              "    .colab-df-convert {\n",
              "      background-color: #E8F0FE;\n",
              "      border: none;\n",
              "      border-radius: 50%;\n",
              "      cursor: pointer;\n",
              "      display: none;\n",
              "      fill: #1967D2;\n",
              "      height: 32px;\n",
              "      padding: 0 0 0 0;\n",
              "      width: 32px;\n",
              "    }\n",
              "\n",
              "    .colab-df-convert:hover {\n",
              "      background-color: #E2EBFA;\n",
              "      box-shadow: 0px 1px 2px rgba(60, 64, 67, 0.3), 0px 1px 3px 1px rgba(60, 64, 67, 0.15);\n",
              "      fill: #174EA6;\n",
              "    }\n",
              "\n",
              "    .colab-df-buttons div {\n",
              "      margin-bottom: 4px;\n",
              "    }\n",
              "\n",
              "    [theme=dark] .colab-df-convert {\n",
              "      background-color: #3B4455;\n",
              "      fill: #D2E3FC;\n",
              "    }\n",
              "\n",
              "    [theme=dark] .colab-df-convert:hover {\n",
              "      background-color: #434B5C;\n",
              "      box-shadow: 0px 1px 3px 1px rgba(0, 0, 0, 0.15);\n",
              "      filter: drop-shadow(0px 1px 2px rgba(0, 0, 0, 0.3));\n",
              "      fill: #FFFFFF;\n",
              "    }\n",
              "  </style>\n",
              "\n",
              "    <script>\n",
              "      const buttonEl =\n",
              "        document.querySelector('#df-aa3a4550-1062-44e1-92f4-6fa7e2aa2aa7 button.colab-df-convert');\n",
              "      buttonEl.style.display =\n",
              "        google.colab.kernel.accessAllowed ? 'block' : 'none';\n",
              "\n",
              "      async function convertToInteractive(key) {\n",
              "        const element = document.querySelector('#df-aa3a4550-1062-44e1-92f4-6fa7e2aa2aa7');\n",
              "        const dataTable =\n",
              "          await google.colab.kernel.invokeFunction('convertToInteractive',\n",
              "                                                    [key], {});\n",
              "        if (!dataTable) return;\n",
              "\n",
              "        const docLinkHtml = 'Like what you see? Visit the ' +\n",
              "          '<a target=\"_blank\" href=https://colab.research.google.com/notebooks/data_table.ipynb>data table notebook</a>'\n",
              "          + ' to learn more about interactive tables.';\n",
              "        element.innerHTML = '';\n",
              "        dataTable['output_type'] = 'display_data';\n",
              "        await google.colab.output.renderOutput(dataTable, element);\n",
              "        const docLink = document.createElement('div');\n",
              "        docLink.innerHTML = docLinkHtml;\n",
              "        element.appendChild(docLink);\n",
              "      }\n",
              "    </script>\n",
              "  </div>\n",
              "\n",
              "\n",
              "<div id=\"df-2b9f6541-c0a7-4728-989d-6a8e277dadb0\">\n",
              "  <button class=\"colab-df-quickchart\" onclick=\"quickchart('df-2b9f6541-c0a7-4728-989d-6a8e277dadb0')\"\n",
              "            title=\"Suggest charts\"\n",
              "            style=\"display:none;\">\n",
              "\n",
              "<svg xmlns=\"http://www.w3.org/2000/svg\" height=\"24px\"viewBox=\"0 0 24 24\"\n",
              "     width=\"24px\">\n",
              "    <g>\n",
              "        <path d=\"M19 3H5c-1.1 0-2 .9-2 2v14c0 1.1.9 2 2 2h14c1.1 0 2-.9 2-2V5c0-1.1-.9-2-2-2zM9 17H7v-7h2v7zm4 0h-2V7h2v10zm4 0h-2v-4h2v4z\"/>\n",
              "    </g>\n",
              "</svg>\n",
              "  </button>\n",
              "\n",
              "<style>\n",
              "  .colab-df-quickchart {\n",
              "      --bg-color: #E8F0FE;\n",
              "      --fill-color: #1967D2;\n",
              "      --hover-bg-color: #E2EBFA;\n",
              "      --hover-fill-color: #174EA6;\n",
              "      --disabled-fill-color: #AAA;\n",
              "      --disabled-bg-color: #DDD;\n",
              "  }\n",
              "\n",
              "  [theme=dark] .colab-df-quickchart {\n",
              "      --bg-color: #3B4455;\n",
              "      --fill-color: #D2E3FC;\n",
              "      --hover-bg-color: #434B5C;\n",
              "      --hover-fill-color: #FFFFFF;\n",
              "      --disabled-bg-color: #3B4455;\n",
              "      --disabled-fill-color: #666;\n",
              "  }\n",
              "\n",
              "  .colab-df-quickchart {\n",
              "    background-color: var(--bg-color);\n",
              "    border: none;\n",
              "    border-radius: 50%;\n",
              "    cursor: pointer;\n",
              "    display: none;\n",
              "    fill: var(--fill-color);\n",
              "    height: 32px;\n",
              "    padding: 0;\n",
              "    width: 32px;\n",
              "  }\n",
              "\n",
              "  .colab-df-quickchart:hover {\n",
              "    background-color: var(--hover-bg-color);\n",
              "    box-shadow: 0 1px 2px rgba(60, 64, 67, 0.3), 0 1px 3px 1px rgba(60, 64, 67, 0.15);\n",
              "    fill: var(--button-hover-fill-color);\n",
              "  }\n",
              "\n",
              "  .colab-df-quickchart-complete:disabled,\n",
              "  .colab-df-quickchart-complete:disabled:hover {\n",
              "    background-color: var(--disabled-bg-color);\n",
              "    fill: var(--disabled-fill-color);\n",
              "    box-shadow: none;\n",
              "  }\n",
              "\n",
              "  .colab-df-spinner {\n",
              "    border: 2px solid var(--fill-color);\n",
              "    border-color: transparent;\n",
              "    border-bottom-color: var(--fill-color);\n",
              "    animation:\n",
              "      spin 1s steps(1) infinite;\n",
              "  }\n",
              "\n",
              "  @keyframes spin {\n",
              "    0% {\n",
              "      border-color: transparent;\n",
              "      border-bottom-color: var(--fill-color);\n",
              "      border-left-color: var(--fill-color);\n",
              "    }\n",
              "    20% {\n",
              "      border-color: transparent;\n",
              "      border-left-color: var(--fill-color);\n",
              "      border-top-color: var(--fill-color);\n",
              "    }\n",
              "    30% {\n",
              "      border-color: transparent;\n",
              "      border-left-color: var(--fill-color);\n",
              "      border-top-color: var(--fill-color);\n",
              "      border-right-color: var(--fill-color);\n",
              "    }\n",
              "    40% {\n",
              "      border-color: transparent;\n",
              "      border-right-color: var(--fill-color);\n",
              "      border-top-color: var(--fill-color);\n",
              "    }\n",
              "    60% {\n",
              "      border-color: transparent;\n",
              "      border-right-color: var(--fill-color);\n",
              "    }\n",
              "    80% {\n",
              "      border-color: transparent;\n",
              "      border-right-color: var(--fill-color);\n",
              "      border-bottom-color: var(--fill-color);\n",
              "    }\n",
              "    90% {\n",
              "      border-color: transparent;\n",
              "      border-bottom-color: var(--fill-color);\n",
              "    }\n",
              "  }\n",
              "</style>\n",
              "\n",
              "  <script>\n",
              "    async function quickchart(key) {\n",
              "      const quickchartButtonEl =\n",
              "        document.querySelector('#' + key + ' button');\n",
              "      quickchartButtonEl.disabled = true;  // To prevent multiple clicks.\n",
              "      quickchartButtonEl.classList.add('colab-df-spinner');\n",
              "      try {\n",
              "        const charts = await google.colab.kernel.invokeFunction(\n",
              "            'suggestCharts', [key], {});\n",
              "      } catch (error) {\n",
              "        console.error('Error during call to suggestCharts:', error);\n",
              "      }\n",
              "      quickchartButtonEl.classList.remove('colab-df-spinner');\n",
              "      quickchartButtonEl.classList.add('colab-df-quickchart-complete');\n",
              "    }\n",
              "    (() => {\n",
              "      let quickchartButtonEl =\n",
              "        document.querySelector('#df-2b9f6541-c0a7-4728-989d-6a8e277dadb0 button');\n",
              "      quickchartButtonEl.style.display =\n",
              "        google.colab.kernel.accessAllowed ? 'block' : 'none';\n",
              "    })();\n",
              "  </script>\n",
              "</div>\n",
              "    </div>\n",
              "  </div>\n"
            ]
          },
          "metadata": {},
          "execution_count": 31
        }
      ]
    },
    {
      "cell_type": "markdown",
      "source": [
        "## Assigning Class to each WQI"
      ],
      "metadata": {
        "id": "CgLMzkiThlzW"
      }
    },
    {
      "cell_type": "code",
      "source": [
        "# Define a function to assign grades\n",
        "def assign_grade(wqi):\n",
        "    if wqi <= 25:\n",
        "        return 1\n",
        "    elif wqi <= 50:\n",
        "        return 2\n",
        "    elif wqi <= 75:\n",
        "        return 3\n",
        "    elif wqi <= 100:\n",
        "        return 4\n",
        "    else:\n",
        "        return 5\n",
        "\n",
        "# Apply the function to create the 'GRADE' column\n",
        "df['GRADE'] = df['WQI'].apply(assign_grade)\n",
        "\n",
        "# Display the updated DataFrame\n",
        "df.head()"
      ],
      "metadata": {
        "colab": {
          "base_uri": "https://localhost:8080/",
          "height": 206
        },
        "id": "_REbvW2thlZS",
        "outputId": "880a8549-68dd-4b04-f876-d32a8a4ae840"
      },
      "execution_count": null,
      "outputs": [
        {
          "output_type": "execute_result",
          "data": {
            "text/plain": [
              "    DATETIME  TEMP(C)  PH(m)    DO  SALINITY(PPT)  TDS(Mg/L)  EC(MICROS)/CM  \\\n",
              "0 2001-04-14   30.800  7.850  6.80           0.05      357.0         715.00   \n",
              "1 2001-04-15   30.775  7.845  7.05           0.05      291.2         581.25   \n",
              "2 2001-04-16   30.750  7.840  7.30           0.05      225.4         447.50   \n",
              "3 2001-04-17   30.725  7.835  7.55           0.05      159.6         313.75   \n",
              "4 2001-04-18   30.700  7.830  7.80           0.05       93.8         180.00   \n",
              "\n",
              "   TRANSPARENCY  FE(Mg/L)  CI(Mg/L)         WQI  GRADE  \n",
              "0         22.86       1.0       3.0  311.332516      5  \n",
              "1         22.86       1.0       3.0  311.134708      5  \n",
              "2         22.86       1.0       3.0  310.936900      5  \n",
              "3         22.86       1.0       3.0  310.739092      5  \n",
              "4         22.86       1.0       3.0  310.541284      5  "
            ],
            "text/html": [
              "\n",
              "  <div id=\"df-088aa348-0e42-4714-985c-d914e5aa1115\" class=\"colab-df-container\">\n",
              "    <div>\n",
              "<style scoped>\n",
              "    .dataframe tbody tr th:only-of-type {\n",
              "        vertical-align: middle;\n",
              "    }\n",
              "\n",
              "    .dataframe tbody tr th {\n",
              "        vertical-align: top;\n",
              "    }\n",
              "\n",
              "    .dataframe thead th {\n",
              "        text-align: right;\n",
              "    }\n",
              "</style>\n",
              "<table border=\"1\" class=\"dataframe\">\n",
              "  <thead>\n",
              "    <tr style=\"text-align: right;\">\n",
              "      <th></th>\n",
              "      <th>DATETIME</th>\n",
              "      <th>TEMP(C)</th>\n",
              "      <th>PH(m)</th>\n",
              "      <th>DO</th>\n",
              "      <th>SALINITY(PPT)</th>\n",
              "      <th>TDS(Mg/L)</th>\n",
              "      <th>EC(MICROS)/CM</th>\n",
              "      <th>TRANSPARENCY</th>\n",
              "      <th>FE(Mg/L)</th>\n",
              "      <th>CI(Mg/L)</th>\n",
              "      <th>WQI</th>\n",
              "      <th>GRADE</th>\n",
              "    </tr>\n",
              "  </thead>\n",
              "  <tbody>\n",
              "    <tr>\n",
              "      <th>0</th>\n",
              "      <td>2001-04-14</td>\n",
              "      <td>30.800</td>\n",
              "      <td>7.850</td>\n",
              "      <td>6.80</td>\n",
              "      <td>0.05</td>\n",
              "      <td>357.0</td>\n",
              "      <td>715.00</td>\n",
              "      <td>22.86</td>\n",
              "      <td>1.0</td>\n",
              "      <td>3.0</td>\n",
              "      <td>311.332516</td>\n",
              "      <td>5</td>\n",
              "    </tr>\n",
              "    <tr>\n",
              "      <th>1</th>\n",
              "      <td>2001-04-15</td>\n",
              "      <td>30.775</td>\n",
              "      <td>7.845</td>\n",
              "      <td>7.05</td>\n",
              "      <td>0.05</td>\n",
              "      <td>291.2</td>\n",
              "      <td>581.25</td>\n",
              "      <td>22.86</td>\n",
              "      <td>1.0</td>\n",
              "      <td>3.0</td>\n",
              "      <td>311.134708</td>\n",
              "      <td>5</td>\n",
              "    </tr>\n",
              "    <tr>\n",
              "      <th>2</th>\n",
              "      <td>2001-04-16</td>\n",
              "      <td>30.750</td>\n",
              "      <td>7.840</td>\n",
              "      <td>7.30</td>\n",
              "      <td>0.05</td>\n",
              "      <td>225.4</td>\n",
              "      <td>447.50</td>\n",
              "      <td>22.86</td>\n",
              "      <td>1.0</td>\n",
              "      <td>3.0</td>\n",
              "      <td>310.936900</td>\n",
              "      <td>5</td>\n",
              "    </tr>\n",
              "    <tr>\n",
              "      <th>3</th>\n",
              "      <td>2001-04-17</td>\n",
              "      <td>30.725</td>\n",
              "      <td>7.835</td>\n",
              "      <td>7.55</td>\n",
              "      <td>0.05</td>\n",
              "      <td>159.6</td>\n",
              "      <td>313.75</td>\n",
              "      <td>22.86</td>\n",
              "      <td>1.0</td>\n",
              "      <td>3.0</td>\n",
              "      <td>310.739092</td>\n",
              "      <td>5</td>\n",
              "    </tr>\n",
              "    <tr>\n",
              "      <th>4</th>\n",
              "      <td>2001-04-18</td>\n",
              "      <td>30.700</td>\n",
              "      <td>7.830</td>\n",
              "      <td>7.80</td>\n",
              "      <td>0.05</td>\n",
              "      <td>93.8</td>\n",
              "      <td>180.00</td>\n",
              "      <td>22.86</td>\n",
              "      <td>1.0</td>\n",
              "      <td>3.0</td>\n",
              "      <td>310.541284</td>\n",
              "      <td>5</td>\n",
              "    </tr>\n",
              "  </tbody>\n",
              "</table>\n",
              "</div>\n",
              "    <div class=\"colab-df-buttons\">\n",
              "\n",
              "  <div class=\"colab-df-container\">\n",
              "    <button class=\"colab-df-convert\" onclick=\"convertToInteractive('df-088aa348-0e42-4714-985c-d914e5aa1115')\"\n",
              "            title=\"Convert this dataframe to an interactive table.\"\n",
              "            style=\"display:none;\">\n",
              "\n",
              "  <svg xmlns=\"http://www.w3.org/2000/svg\" height=\"24px\" viewBox=\"0 -960 960 960\">\n",
              "    <path d=\"M120-120v-720h720v720H120Zm60-500h600v-160H180v160Zm220 220h160v-160H400v160Zm0 220h160v-160H400v160ZM180-400h160v-160H180v160Zm440 0h160v-160H620v160ZM180-180h160v-160H180v160Zm440 0h160v-160H620v160Z\"/>\n",
              "  </svg>\n",
              "    </button>\n",
              "\n",
              "  <style>\n",
              "    .colab-df-container {\n",
              "      display:flex;\n",
              "      gap: 12px;\n",
              "    }\n",
              "\n",
              "    .colab-df-convert {\n",
              "      background-color: #E8F0FE;\n",
              "      border: none;\n",
              "      border-radius: 50%;\n",
              "      cursor: pointer;\n",
              "      display: none;\n",
              "      fill: #1967D2;\n",
              "      height: 32px;\n",
              "      padding: 0 0 0 0;\n",
              "      width: 32px;\n",
              "    }\n",
              "\n",
              "    .colab-df-convert:hover {\n",
              "      background-color: #E2EBFA;\n",
              "      box-shadow: 0px 1px 2px rgba(60, 64, 67, 0.3), 0px 1px 3px 1px rgba(60, 64, 67, 0.15);\n",
              "      fill: #174EA6;\n",
              "    }\n",
              "\n",
              "    .colab-df-buttons div {\n",
              "      margin-bottom: 4px;\n",
              "    }\n",
              "\n",
              "    [theme=dark] .colab-df-convert {\n",
              "      background-color: #3B4455;\n",
              "      fill: #D2E3FC;\n",
              "    }\n",
              "\n",
              "    [theme=dark] .colab-df-convert:hover {\n",
              "      background-color: #434B5C;\n",
              "      box-shadow: 0px 1px 3px 1px rgba(0, 0, 0, 0.15);\n",
              "      filter: drop-shadow(0px 1px 2px rgba(0, 0, 0, 0.3));\n",
              "      fill: #FFFFFF;\n",
              "    }\n",
              "  </style>\n",
              "\n",
              "    <script>\n",
              "      const buttonEl =\n",
              "        document.querySelector('#df-088aa348-0e42-4714-985c-d914e5aa1115 button.colab-df-convert');\n",
              "      buttonEl.style.display =\n",
              "        google.colab.kernel.accessAllowed ? 'block' : 'none';\n",
              "\n",
              "      async function convertToInteractive(key) {\n",
              "        const element = document.querySelector('#df-088aa348-0e42-4714-985c-d914e5aa1115');\n",
              "        const dataTable =\n",
              "          await google.colab.kernel.invokeFunction('convertToInteractive',\n",
              "                                                    [key], {});\n",
              "        if (!dataTable) return;\n",
              "\n",
              "        const docLinkHtml = 'Like what you see? Visit the ' +\n",
              "          '<a target=\"_blank\" href=https://colab.research.google.com/notebooks/data_table.ipynb>data table notebook</a>'\n",
              "          + ' to learn more about interactive tables.';\n",
              "        element.innerHTML = '';\n",
              "        dataTable['output_type'] = 'display_data';\n",
              "        await google.colab.output.renderOutput(dataTable, element);\n",
              "        const docLink = document.createElement('div');\n",
              "        docLink.innerHTML = docLinkHtml;\n",
              "        element.appendChild(docLink);\n",
              "      }\n",
              "    </script>\n",
              "  </div>\n",
              "\n",
              "\n",
              "<div id=\"df-4a6c3f27-063e-4022-9ccb-49493b024291\">\n",
              "  <button class=\"colab-df-quickchart\" onclick=\"quickchart('df-4a6c3f27-063e-4022-9ccb-49493b024291')\"\n",
              "            title=\"Suggest charts\"\n",
              "            style=\"display:none;\">\n",
              "\n",
              "<svg xmlns=\"http://www.w3.org/2000/svg\" height=\"24px\"viewBox=\"0 0 24 24\"\n",
              "     width=\"24px\">\n",
              "    <g>\n",
              "        <path d=\"M19 3H5c-1.1 0-2 .9-2 2v14c0 1.1.9 2 2 2h14c1.1 0 2-.9 2-2V5c0-1.1-.9-2-2-2zM9 17H7v-7h2v7zm4 0h-2V7h2v10zm4 0h-2v-4h2v4z\"/>\n",
              "    </g>\n",
              "</svg>\n",
              "  </button>\n",
              "\n",
              "<style>\n",
              "  .colab-df-quickchart {\n",
              "      --bg-color: #E8F0FE;\n",
              "      --fill-color: #1967D2;\n",
              "      --hover-bg-color: #E2EBFA;\n",
              "      --hover-fill-color: #174EA6;\n",
              "      --disabled-fill-color: #AAA;\n",
              "      --disabled-bg-color: #DDD;\n",
              "  }\n",
              "\n",
              "  [theme=dark] .colab-df-quickchart {\n",
              "      --bg-color: #3B4455;\n",
              "      --fill-color: #D2E3FC;\n",
              "      --hover-bg-color: #434B5C;\n",
              "      --hover-fill-color: #FFFFFF;\n",
              "      --disabled-bg-color: #3B4455;\n",
              "      --disabled-fill-color: #666;\n",
              "  }\n",
              "\n",
              "  .colab-df-quickchart {\n",
              "    background-color: var(--bg-color);\n",
              "    border: none;\n",
              "    border-radius: 50%;\n",
              "    cursor: pointer;\n",
              "    display: none;\n",
              "    fill: var(--fill-color);\n",
              "    height: 32px;\n",
              "    padding: 0;\n",
              "    width: 32px;\n",
              "  }\n",
              "\n",
              "  .colab-df-quickchart:hover {\n",
              "    background-color: var(--hover-bg-color);\n",
              "    box-shadow: 0 1px 2px rgba(60, 64, 67, 0.3), 0 1px 3px 1px rgba(60, 64, 67, 0.15);\n",
              "    fill: var(--button-hover-fill-color);\n",
              "  }\n",
              "\n",
              "  .colab-df-quickchart-complete:disabled,\n",
              "  .colab-df-quickchart-complete:disabled:hover {\n",
              "    background-color: var(--disabled-bg-color);\n",
              "    fill: var(--disabled-fill-color);\n",
              "    box-shadow: none;\n",
              "  }\n",
              "\n",
              "  .colab-df-spinner {\n",
              "    border: 2px solid var(--fill-color);\n",
              "    border-color: transparent;\n",
              "    border-bottom-color: var(--fill-color);\n",
              "    animation:\n",
              "      spin 1s steps(1) infinite;\n",
              "  }\n",
              "\n",
              "  @keyframes spin {\n",
              "    0% {\n",
              "      border-color: transparent;\n",
              "      border-bottom-color: var(--fill-color);\n",
              "      border-left-color: var(--fill-color);\n",
              "    }\n",
              "    20% {\n",
              "      border-color: transparent;\n",
              "      border-left-color: var(--fill-color);\n",
              "      border-top-color: var(--fill-color);\n",
              "    }\n",
              "    30% {\n",
              "      border-color: transparent;\n",
              "      border-left-color: var(--fill-color);\n",
              "      border-top-color: var(--fill-color);\n",
              "      border-right-color: var(--fill-color);\n",
              "    }\n",
              "    40% {\n",
              "      border-color: transparent;\n",
              "      border-right-color: var(--fill-color);\n",
              "      border-top-color: var(--fill-color);\n",
              "    }\n",
              "    60% {\n",
              "      border-color: transparent;\n",
              "      border-right-color: var(--fill-color);\n",
              "    }\n",
              "    80% {\n",
              "      border-color: transparent;\n",
              "      border-right-color: var(--fill-color);\n",
              "      border-bottom-color: var(--fill-color);\n",
              "    }\n",
              "    90% {\n",
              "      border-color: transparent;\n",
              "      border-bottom-color: var(--fill-color);\n",
              "    }\n",
              "  }\n",
              "</style>\n",
              "\n",
              "  <script>\n",
              "    async function quickchart(key) {\n",
              "      const quickchartButtonEl =\n",
              "        document.querySelector('#' + key + ' button');\n",
              "      quickchartButtonEl.disabled = true;  // To prevent multiple clicks.\n",
              "      quickchartButtonEl.classList.add('colab-df-spinner');\n",
              "      try {\n",
              "        const charts = await google.colab.kernel.invokeFunction(\n",
              "            'suggestCharts', [key], {});\n",
              "      } catch (error) {\n",
              "        console.error('Error during call to suggestCharts:', error);\n",
              "      }\n",
              "      quickchartButtonEl.classList.remove('colab-df-spinner');\n",
              "      quickchartButtonEl.classList.add('colab-df-quickchart-complete');\n",
              "    }\n",
              "    (() => {\n",
              "      let quickchartButtonEl =\n",
              "        document.querySelector('#df-4a6c3f27-063e-4022-9ccb-49493b024291 button');\n",
              "      quickchartButtonEl.style.display =\n",
              "        google.colab.kernel.accessAllowed ? 'block' : 'none';\n",
              "    })();\n",
              "  </script>\n",
              "</div>\n",
              "    </div>\n",
              "  </div>\n"
            ]
          },
          "metadata": {},
          "execution_count": 32
        }
      ]
    },
    {
      "cell_type": "markdown",
      "source": [
        "## Count Total Different Classes"
      ],
      "metadata": {
        "id": "-mCTOQL3itXl"
      }
    },
    {
      "cell_type": "code",
      "source": [
        "grade_counts = df['GRADE'].value_counts()\n",
        "\n",
        "print(\"Grade Counts:\")\n",
        "print(grade_counts)\n"
      ],
      "metadata": {
        "colab": {
          "base_uri": "https://localhost:8080/"
        },
        "id": "Qrfw0LOiiozg",
        "outputId": "7d4a085d-05ca-42c2-e629-12c713ffc63d"
      },
      "execution_count": null,
      "outputs": [
        {
          "output_type": "stream",
          "name": "stdout",
          "text": [
            "Grade Counts:\n",
            "5    3980\n",
            "2    1620\n",
            "3    1535\n",
            "1     724\n",
            "4     674\n",
            "Name: GRADE, dtype: int64\n"
          ]
        }
      ]
    },
    {
      "cell_type": "markdown",
      "source": [
        "# Visualization of data"
      ],
      "metadata": {
        "id": "3lIdUh1Rql1A"
      }
    },
    {
      "cell_type": "markdown",
      "source": [
        "## Distribution of Grades In Dataset"
      ],
      "metadata": {
        "id": "gMa6i5hzrUuE"
      }
    },
    {
      "cell_type": "code",
      "source": [
        "import seaborn as sns\n",
        "import matplotlib.pyplot as plt\n",
        "\n",
        "# Assuming 'df' is your DataFrame\n",
        "grade_counts = df['GRADE'].value_counts().sort_index()\n",
        "\n",
        "# Create a DataFrame for the heatmap\n",
        "heatmap_data = pd.DataFrame({'Count': grade_counts.values}, index=grade_counts.index)\n",
        "\n",
        "# Create a heatmap using Seaborn\n",
        "plt.figure(figsize=(8, 6))\n",
        "sns.heatmap(data=heatmap_data, annot=True, cmap='YlGnBu', fmt='g', cbar_kws={'label': 'Count'})\n",
        "plt.title('Distribution of Grades in Dataset')\n",
        "plt.xlabel('Grade')\n",
        "plt.ylabel('Count')\n",
        "plt.show()\n"
      ],
      "metadata": {
        "colab": {
          "base_uri": "https://localhost:8080/",
          "height": 564
        },
        "id": "W4xdcP9xqpPI",
        "outputId": "108804c6-ec8e-4f27-873a-abefb1c2f4a5"
      },
      "execution_count": null,
      "outputs": [
        {
          "output_type": "display_data",
          "data": {
            "text/plain": [
              "<Figure size 800x600 with 2 Axes>"
            ],
            "image/png": "[encoded data removed]"
          },
          "metadata": {}
        }
      ]
    },
    {
      "cell_type": "markdown",
      "source": [
        "## Correlation Matrix"
      ],
      "metadata": {
        "id": "0BACEgg8rYY3"
      }
    },
    {
      "cell_type": "code",
      "source": [
        "import seaborn as sns\n",
        "import matplotlib.pyplot as plt\n",
        "\n",
        "# Assuming 'df' is your DataFrame\n",
        "correlation_matrix = df.corr(numeric_only=True)\n",
        "\n",
        "# Create a heatmap using Seaborn\n",
        "plt.figure(figsize=(10, 8))\n",
        "sns.heatmap(data=correlation_matrix, annot=True, cmap='coolwarm', fmt='.2f', linewidths=.5)\n",
        "plt.title('Correlation Matrix')\n",
        "plt.show()\n"
      ],
      "metadata": {
        "colab": {
          "base_uri": "https://localhost:8080/",
          "height": 795
        },
        "id": "TLeKEv18rbfU",
        "outputId": "5f88e011-6cfb-4b35-c6bb-20a9ca4c74fa"
      },
      "execution_count": null,
      "outputs": [
        {
          "output_type": "display_data",
          "data": {
            "text/plain": [
              "<Figure size 1000x800 with 2 Axes>"
            ],
            "image/png": "[encoded data removed]"
          },
          "metadata": {}
        }
      ]
    },
    {
      "cell_type": "markdown",
      "source": [
        "# Usage of different Models"
      ],
      "metadata": {
        "id": "ZcENbzd3sBoJ"
      }
    },
    {
      "cell_type": "markdown",
      "source": [
        "## LSTM"
      ],
      "metadata": {
        "id": "l1dXl_LQsuEK"
      }
    },
    {
      "cell_type": "markdown",
      "source": [
        "### Import The Necessary Modules"
      ],
      "metadata": {
        "id": "2bzTLjUUsfKV"
      }
    },
    {
      "cell_type": "code",
      "source": [
        "import numpy as np\n",
        "import pandas as pd\n",
        "from sklearn.model_selection import train_test_split\n",
        "from sklearn.preprocessing import MinMaxScaler\n",
        "from tensorflow.keras.models import Sequential\n",
        "from tensorflow.keras.layers import LSTM, Dense"
      ],
      "metadata": {
        "id": "La2Fl0fBr6s7"
      },
      "execution_count": null,
      "outputs": []
    },
    {
      "cell_type": "markdown",
      "source": [
        "###  Load and preprocess the data"
      ],
      "metadata": {
        "id": "WeWWh1uPs2FY"
      }
    },
    {
      "cell_type": "code",
      "source": [
        "# df.reset_index(inplace=True)\n",
        "lstm_df = df\n",
        "lstm_df.info()"
      ],
      "metadata": {
        "colab": {
          "base_uri": "https://localhost:8080/"
        },
        "id": "4k3MkzgzhAxu",
        "outputId": "768578f3-7df6-467e-a228-b0ee4a7ff458"
      },
      "execution_count": null,
      "outputs": [
        {
          "output_type": "stream",
          "name": "stdout",
          "text": [
            "<class 'pandas.core.frame.DataFrame'>\n",
            "RangeIndex: 8533 entries, 0 to 8532\n",
            "Data columns (total 12 columns):\n",
            " #   Column         Non-Null Count  Dtype         \n",
            "---  ------         --------------  -----         \n",
            " 0   DATETIME       8533 non-null   datetime64[ns]\n",
            " 1   TEMP(C)        8533 non-null   float64       \n",
            " 2   PH(m)          8533 non-null   float64       \n",
            " 3   DO             8533 non-null   float64       \n",
            " 4   SALINITY(PPT)  8533 non-null   float64       \n",
            " 5   TDS(Mg/L)      8533 non-null   float64       \n",
            " 6   EC(MICROS)/CM  8533 non-null   float64       \n",
            " 7   TRANSPARENCY   8533 non-null   float64       \n",
            " 8   FE(Mg/L)       8533 non-null   float64       \n",
            " 9   CI(Mg/L)       8533 non-null   float64       \n",
            " 10  WQI            8533 non-null   float64       \n",
            " 11  GRADE          8533 non-null   int64         \n",
            "dtypes: datetime64[ns](1), float64(10), int64(1)\n",
            "memory usage: 800.1 KB\n"
          ]
        }
      ]
    },
    {
      "cell_type": "code",
      "source": [
        "lstm_df = lstm_df[['DATETIME', 'WQI']].copy()\n",
        "lstm_df['DATETIME'] = pd.to_datetime(lstm_df['DATETIME'])\n",
        "\n",
        "# Define the number of time steps\n",
        "n_steps = 5  # You can adjust this based on your data\n",
        "\n",
        "# Set 'DATETIME' as the index\n",
        "lstm_df.set_index('DATETIME', inplace=True)\n",
        "\n",
        "# Create sequences for LSTM\n",
        "def create_sequences(data, n_steps):\n",
        "    X, y = [], []\n",
        "    for i in range(len(data) - n_steps):\n",
        "        X.append(data.iloc[i:(i + n_steps)].values)\n",
        "        y.append(data.iloc[i + n_steps].values)\n",
        "    return np.array(X), np.array(y)\n",
        "\n",
        "# Normalize the data using MinMaxScaler\n",
        "scaler = MinMaxScaler()\n",
        "df_scaled = pd.DataFrame(scaler.fit_transform(lstm_df), columns=lstm_df.columns)\n",
        "\n",
        "# Create sequences for LSTM\n",
        "X, y = create_sequences(df_scaled, n_steps)\n",
        "\n"
      ],
      "metadata": {
        "id": "vwJowyZOsnww"
      },
      "execution_count": null,
      "outputs": []
    },
    {
      "cell_type": "markdown",
      "source": [
        "### Split the data into train, validation, and test sets"
      ],
      "metadata": {
        "id": "b98AJPlztQD3"
      }
    },
    {
      "cell_type": "code",
      "source": [
        "# Split the data into train, validation, and test sets\n",
        "X_train, X_temp, y_train, y_temp = train_test_split(X, y, test_size=0.3, random_state=42)\n",
        "X_val, X_test, y_val, y_test = train_test_split(X_temp, y_temp, test_size=0.5, random_state=42)"
      ],
      "metadata": {
        "id": "akJxz4EXtSgb"
      },
      "execution_count": null,
      "outputs": []
    },
    {
      "cell_type": "markdown",
      "source": [
        "### Build the LSTM model"
      ],
      "metadata": {
        "id": "oYrse-_LtWMB"
      }
    },
    {
      "cell_type": "code",
      "source": [
        "from tensorflow.keras.callbacks import Callback\n",
        "from sklearn.metrics import mean_squared_error, mean_absolute_error\n",
        "import numpy as np\n",
        "import matplotlib.pyplot as plt\n",
        "\n",
        "class MetricsCallback(Callback):\n",
        "    def __init__(self):\n",
        "        self.mse_values = []\n",
        "        self.rmse_values = []\n",
        "        self.epochs = []\n",
        "\n",
        "    def on_epoch_end(self, epoch, logs=None):\n",
        "        # Make predictions on the validation set\n",
        "        y_pred = self.model.predict(X_val)\n",
        "\n",
        "        # Convert predictions back to original scale\n",
        "        y_pred = scaler.inverse_transform(y_pred.reshape(-1, 1))\n",
        "\n",
        "        # Convert ground truth to original scale\n",
        "        y_val_original = scaler.inverse_transform(y_val)\n",
        "\n",
        "        # Calculate mean squared error and root mean squared error\n",
        "        mse = mean_squared_error(y_val_original, y_pred)\n",
        "        rmse = np.sqrt(mse)\n",
        "\n",
        "        # Log and store the values\n",
        "        print(f'Epoch {epoch + 1} - Mean Squared Error: {mse:.4f}, Root Mean Squared Error: {rmse:.4f}')\n",
        "        self.mse_values.append(mse)\n",
        "        self.rmse_values.append(rmse)\n",
        "        self.epochs.append(epoch + 1)\n",
        "\n",
        "# Build the LSTM model\n",
        "model = Sequential()\n",
        "model.add(LSTM(units=50, activation='relu', input_shape=(X_train.shape[1], X_train.shape[2])))\n",
        "model.add(Dense(units=1))\n",
        "model.compile(optimizer='adam', loss='mse')\n",
        "\n",
        "# Train the model with the custom callback\n",
        "metrics_callback = MetricsCallback()\n",
        "model.fit(X_train, y_train, epochs=50, batch_size=32, validation_data=(X_val, y_val), callbacks=[metrics_callback])\n",
        "\n",
        "# Create separate graphs for MSE and RMSE\n",
        "plt.figure(figsize=(12, 6))\n",
        "\n",
        "# Plot RMSE\n",
        "plt.subplot(1, 2, 2)\n",
        "plt.plot(metrics_callback.epochs, metrics_callback.rmse_values, label='Root Mean Squared Error')\n",
        "plt.xlabel('Epoch')\n",
        "plt.ylabel('Root Mean Squared Error')\n",
        "plt.title('RMSE Over Epochs')\n",
        "plt.legend()\n",
        "\n",
        "plt.tight_layout()\n",
        "plt.show()\n"
      ],
      "metadata": {
        "colab": {
          "base_uri": "https://localhost:8080/",
          "height": 1000
        },
        "id": "mdK8OcrctYRj",
        "outputId": "94ce17ea-1b81-43fb-8966-3a336f01d595"
      },
      "execution_count": null,
      "outputs": [
        {
          "output_type": "stream",
          "name": "stdout",
          "text": [
            "Epoch 1/50\n",
            "40/40 [==============================] - 0s 2ms/step\n",
            "Epoch 1 - Mean Squared Error: 888.0084, Root Mean Squared Error: 29.7995\n",
            "187/187 [==============================] - 4s 11ms/step - loss: 0.0055 - val_loss: 8.2306e-04\n",
            "Epoch 2/50\n",
            "40/40 [==============================] - 0s 2ms/step\n",
            "Epoch 2 - Mean Squared Error: 822.5616, Root Mean Squared Error: 28.6803\n",
            "187/187 [==============================] - 1s 5ms/step - loss: 0.0014 - val_loss: 7.6240e-04\n",
            "Epoch 3/50\n",
            "40/40 [==============================] - 0s 2ms/step\n",
            "Epoch 3 - Mean Squared Error: 734.5592, Root Mean Squared Error: 27.1028\n",
            "187/187 [==============================] - 1s 5ms/step - loss: 0.0013 - val_loss: 6.8083e-04\n",
            "Epoch 4/50\n",
            "40/40 [==============================] - 0s 2ms/step\n",
            "Epoch 4 - Mean Squared Error: 679.2159, Root Mean Squared Error: 26.0618\n",
            "187/187 [==============================] - 1s 5ms/step - loss: 0.0013 - val_loss: 6.2954e-04\n",
            "Epoch 5/50\n",
            "40/40 [==============================] - 0s 2ms/step\n",
            "Epoch 5 - Mean Squared Error: 715.9966, Root Mean Squared Error: 26.7581\n",
            "187/187 [==============================] - 1s 5ms/step - loss: 0.0012 - val_loss: 6.6363e-04\n",
            "Epoch 6/50\n",
            "40/40 [==============================] - 0s 2ms/step\n",
            "Epoch 6 - Mean Squared Error: 608.5291, Root Mean Squared Error: 24.6684\n",
            "187/187 [==============================] - 1s 5ms/step - loss: 0.0012 - val_loss: 5.6402e-04\n",
            "Epoch 7/50\n",
            "40/40 [==============================] - 0s 2ms/step\n",
            "Epoch 7 - Mean Squared Error: 627.2305, Root Mean Squared Error: 25.0446\n",
            "187/187 [==============================] - 1s 5ms/step - loss: 0.0012 - val_loss: 5.8135e-04\n",
            "Epoch 8/50\n",
            "40/40 [==============================] - 0s 2ms/step\n",
            "Epoch 8 - Mean Squared Error: 564.2597, Root Mean Squared Error: 23.7542\n",
            "187/187 [==============================] - 1s 5ms/step - loss: 0.0012 - val_loss: 5.2299e-04\n",
            "Epoch 9/50\n",
            "40/40 [==============================] - 0s 2ms/step\n",
            "Epoch 9 - Mean Squared Error: 581.4551, Root Mean Squared Error: 24.1134\n",
            "187/187 [==============================] - 1s 5ms/step - loss: 0.0012 - val_loss: 5.3893e-04\n",
            "Epoch 10/50\n",
            "40/40 [==============================] - 0s 2ms/step\n",
            "Epoch 10 - Mean Squared Error: 538.7403, Root Mean Squared Error: 23.2108\n",
            "187/187 [==============================] - 1s 5ms/step - loss: 0.0011 - val_loss: 4.9934e-04\n",
            "Epoch 11/50\n",
            "40/40 [==============================] - 0s 2ms/step\n",
            "Epoch 11 - Mean Squared Error: 539.8497, Root Mean Squared Error: 23.2347\n",
            "187/187 [==============================] - 1s 5ms/step - loss: 0.0011 - val_loss: 5.0036e-04\n",
            "Epoch 12/50\n",
            "40/40 [==============================] - 0s 3ms/step\n",
            "Epoch 12 - Mean Squared Error: 521.2470, Root Mean Squared Error: 22.8308\n",
            "187/187 [==============================] - 1s 6ms/step - loss: 0.0011 - val_loss: 4.8312e-04\n",
            "Epoch 13/50\n",
            "40/40 [==============================] - 0s 3ms/step\n",
            "Epoch 13 - Mean Squared Error: 521.2422, Root Mean Squared Error: 22.8307\n",
            "187/187 [==============================] - 1s 8ms/step - loss: 0.0011 - val_loss: 4.8312e-04\n",
            "Epoch 14/50\n",
            "40/40 [==============================] - 0s 3ms/step\n",
            "Epoch 14 - Mean Squared Error: 594.5542, Root Mean Squared Error: 24.3835\n",
            "187/187 [==============================] - 1s 7ms/step - loss: 0.0011 - val_loss: 5.5107e-04\n",
            "Epoch 15/50\n",
            "40/40 [==============================] - 0s 2ms/step\n",
            "Epoch 15 - Mean Squared Error: 511.6616, Root Mean Squared Error: 22.6199\n",
            "187/187 [==============================] - 1s 5ms/step - loss: 0.0011 - val_loss: 4.7424e-04\n",
            "Epoch 16/50\n",
            "40/40 [==============================] - 0s 2ms/step\n",
            "Epoch 16 - Mean Squared Error: 541.7992, Root Mean Squared Error: 23.2766\n",
            "187/187 [==============================] - 1s 5ms/step - loss: 0.0011 - val_loss: 5.0217e-04\n",
            "Epoch 17/50\n",
            "40/40 [==============================] - 0s 2ms/step\n",
            "Epoch 17 - Mean Squared Error: 508.3356, Root Mean Squared Error: 22.5463\n",
            "187/187 [==============================] - 1s 5ms/step - loss: 0.0011 - val_loss: 4.7115e-04\n",
            "Epoch 18/50\n",
            "40/40 [==============================] - 0s 2ms/step\n",
            "Epoch 18 - Mean Squared Error: 509.7440, Root Mean Squared Error: 22.5775\n",
            "187/187 [==============================] - 1s 4ms/step - loss: 0.0011 - val_loss: 4.7246e-04\n",
            "Epoch 19/50\n",
            "40/40 [==============================] - 0s 2ms/step\n",
            "Epoch 19 - Mean Squared Error: 528.3898, Root Mean Squared Error: 22.9867\n",
            "187/187 [==============================] - 1s 5ms/step - loss: 0.0011 - val_loss: 4.8974e-04\n",
            "Epoch 20/50\n",
            "40/40 [==============================] - 0s 2ms/step\n",
            "Epoch 20 - Mean Squared Error: 526.0772, Root Mean Squared Error: 22.9364\n",
            "187/187 [==============================] - 1s 5ms/step - loss: 0.0011 - val_loss: 4.8760e-04\n",
            "Epoch 21/50\n",
            "40/40 [==============================] - 0s 2ms/step\n",
            "Epoch 21 - Mean Squared Error: 502.2575, Root Mean Squared Error: 22.4111\n",
            "187/187 [==============================] - 1s 5ms/step - loss: 0.0011 - val_loss: 4.6552e-04\n",
            "Epoch 22/50\n",
            "40/40 [==============================] - 0s 2ms/step\n",
            "Epoch 22 - Mean Squared Error: 554.2693, Root Mean Squared Error: 23.5429\n",
            "187/187 [==============================] - 1s 5ms/step - loss: 0.0011 - val_loss: 5.1373e-04\n",
            "Epoch 23/50\n",
            "40/40 [==============================] - 0s 2ms/step\n",
            "Epoch 23 - Mean Squared Error: 523.2300, Root Mean Squared Error: 22.8742\n",
            "187/187 [==============================] - 1s 5ms/step - loss: 0.0011 - val_loss: 4.8496e-04\n",
            "Epoch 24/50\n",
            "40/40 [==============================] - 0s 2ms/step\n",
            "Epoch 24 - Mean Squared Error: 540.1559, Root Mean Squared Error: 23.2413\n",
            "187/187 [==============================] - 1s 6ms/step - loss: 0.0011 - val_loss: 5.0065e-04\n",
            "Epoch 25/50\n",
            "40/40 [==============================] - 0s 2ms/step\n",
            "Epoch 25 - Mean Squared Error: 507.0056, Root Mean Squared Error: 22.5168\n",
            "187/187 [==============================] - 1s 5ms/step - loss: 0.0011 - val_loss: 4.6992e-04\n",
            "Epoch 26/50\n",
            "40/40 [==============================] - 0s 3ms/step\n",
            "Epoch 26 - Mean Squared Error: 640.7900, Root Mean Squared Error: 25.3138\n",
            "187/187 [==============================] - 1s 7ms/step - loss: 0.0011 - val_loss: 5.9392e-04\n",
            "Epoch 27/50\n",
            "40/40 [==============================] - 0s 3ms/step\n",
            "Epoch 27 - Mean Squared Error: 506.5302, Root Mean Squared Error: 22.5062\n",
            "187/187 [==============================] - 1s 8ms/step - loss: 0.0011 - val_loss: 4.6948e-04\n",
            "Epoch 28/50\n",
            "40/40 [==============================] - 0s 2ms/step\n",
            "Epoch 28 - Mean Squared Error: 537.6358, Root Mean Squared Error: 23.1870\n",
            "187/187 [==============================] - 1s 6ms/step - loss: 0.0011 - val_loss: 4.9831e-04\n",
            "Epoch 29/50\n",
            "40/40 [==============================] - 0s 2ms/step\n",
            "Epoch 29 - Mean Squared Error: 537.3226, Root Mean Squared Error: 23.1802\n",
            "187/187 [==============================] - 1s 5ms/step - loss: 0.0011 - val_loss: 4.9802e-04\n",
            "Epoch 30/50\n",
            "40/40 [==============================] - 0s 2ms/step\n",
            "Epoch 30 - Mean Squared Error: 510.0901, Root Mean Squared Error: 22.5852\n",
            "187/187 [==============================] - 1s 5ms/step - loss: 0.0011 - val_loss: 4.7278e-04\n",
            "Epoch 31/50\n",
            "40/40 [==============================] - 0s 2ms/step\n",
            "Epoch 31 - Mean Squared Error: 543.3234, Root Mean Squared Error: 23.3093\n",
            "187/187 [==============================] - 1s 5ms/step - loss: 0.0011 - val_loss: 5.0358e-04\n",
            "Epoch 32/50\n",
            "40/40 [==============================] - 0s 2ms/step\n",
            "Epoch 32 - Mean Squared Error: 519.0276, Root Mean Squared Error: 22.7822\n",
            "187/187 [==============================] - 1s 5ms/step - loss: 0.0011 - val_loss: 4.8106e-04\n",
            "Epoch 33/50\n",
            "40/40 [==============================] - 0s 2ms/step\n",
            "Epoch 33 - Mean Squared Error: 511.0000, Root Mean Squared Error: 22.6053\n",
            "187/187 [==============================] - 1s 5ms/step - loss: 0.0011 - val_loss: 4.7362e-04\n",
            "Epoch 34/50\n",
            "40/40 [==============================] - 0s 2ms/step\n",
            "Epoch 34 - Mean Squared Error: 512.9724, Root Mean Squared Error: 22.6489\n",
            "187/187 [==============================] - 1s 5ms/step - loss: 0.0011 - val_loss: 4.7545e-04\n",
            "Epoch 35/50\n",
            "40/40 [==============================] - 0s 2ms/step\n",
            "Epoch 35 - Mean Squared Error: 669.6029, Root Mean Squared Error: 25.8767\n",
            "187/187 [==============================] - 1s 5ms/step - loss: 0.0011 - val_loss: 6.2063e-04\n",
            "Epoch 36/50\n",
            "40/40 [==============================] - 0s 2ms/step\n",
            "Epoch 36 - Mean Squared Error: 575.3871, Root Mean Squared Error: 23.9872\n",
            "187/187 [==============================] - 1s 5ms/step - loss: 0.0011 - val_loss: 5.3330e-04\n",
            "Epoch 37/50\n",
            "40/40 [==============================] - 0s 2ms/step\n",
            "Epoch 37 - Mean Squared Error: 508.6790, Root Mean Squared Error: 22.5539\n",
            "187/187 [==============================] - 1s 5ms/step - loss: 0.0011 - val_loss: 4.7147e-04\n",
            "Epoch 38/50\n",
            "40/40 [==============================] - 0s 2ms/step\n",
            "Epoch 38 - Mean Squared Error: 516.0587, Root Mean Squared Error: 22.7169\n",
            "187/187 [==============================] - 1s 5ms/step - loss: 0.0011 - val_loss: 4.7831e-04\n",
            "Epoch 39/50\n",
            "40/40 [==============================] - 0s 3ms/step\n",
            "Epoch 39 - Mean Squared Error: 511.1756, Root Mean Squared Error: 22.6092\n",
            "187/187 [==============================] - 1s 7ms/step - loss: 0.0011 - val_loss: 4.7379e-04\n",
            "Epoch 40/50\n",
            "40/40 [==============================] - 0s 3ms/step\n",
            "Epoch 40 - Mean Squared Error: 509.3310, Root Mean Squared Error: 22.5684\n",
            "187/187 [==============================] - 1s 7ms/step - loss: 0.0011 - val_loss: 4.7208e-04\n",
            "Epoch 41/50\n",
            "40/40 [==============================] - 0s 2ms/step\n",
            "Epoch 41 - Mean Squared Error: 545.3819, Root Mean Squared Error: 23.3534\n",
            "187/187 [==============================] - 1s 7ms/step - loss: 0.0011 - val_loss: 5.0549e-04\n",
            "Epoch 42/50\n",
            "40/40 [==============================] - 0s 2ms/step\n",
            "Epoch 42 - Mean Squared Error: 508.7609, Root Mean Squared Error: 22.5557\n",
            "187/187 [==============================] - 1s 5ms/step - loss: 0.0011 - val_loss: 4.7155e-04\n",
            "Epoch 43/50\n",
            "40/40 [==============================] - 0s 2ms/step\n",
            "Epoch 43 - Mean Squared Error: 522.0807, Root Mean Squared Error: 22.8491\n",
            "187/187 [==============================] - 1s 5ms/step - loss: 0.0011 - val_loss: 4.8389e-04\n",
            "Epoch 44/50\n",
            "40/40 [==============================] - 0s 2ms/step\n",
            "Epoch 44 - Mean Squared Error: 550.7222, Root Mean Squared Error: 23.4675\n",
            "187/187 [==============================] - 1s 5ms/step - loss: 0.0011 - val_loss: 5.1044e-04\n",
            "Epoch 45/50\n",
            "40/40 [==============================] - 0s 2ms/step\n",
            "Epoch 45 - Mean Squared Error: 513.8955, Root Mean Squared Error: 22.6693\n",
            "187/187 [==============================] - 1s 5ms/step - loss: 0.0011 - val_loss: 4.7631e-04\n",
            "Epoch 46/50\n",
            "40/40 [==============================] - 0s 2ms/step\n",
            "Epoch 46 - Mean Squared Error: 504.2376, Root Mean Squared Error: 22.4552\n",
            "187/187 [==============================] - 1s 5ms/step - loss: 0.0011 - val_loss: 4.6736e-04\n",
            "Epoch 47/50\n",
            "40/40 [==============================] - 0s 2ms/step\n",
            "Epoch 47 - Mean Squared Error: 515.8182, Root Mean Squared Error: 22.7116\n",
            "187/187 [==============================] - 1s 5ms/step - loss: 0.0011 - val_loss: 4.7809e-04\n",
            "Epoch 48/50\n",
            "40/40 [==============================] - 0s 2ms/step\n",
            "Epoch 48 - Mean Squared Error: 600.7295, Root Mean Squared Error: 24.5098\n",
            "187/187 [==============================] - 1s 5ms/step - loss: 0.0011 - val_loss: 5.5679e-04\n",
            "Epoch 49/50\n",
            "40/40 [==============================] - 0s 2ms/step\n",
            "Epoch 49 - Mean Squared Error: 516.3335, Root Mean Squared Error: 22.7230\n",
            "187/187 [==============================] - 1s 5ms/step - loss: 0.0011 - val_loss: 4.7857e-04\n",
            "Epoch 50/50\n",
            "40/40 [==============================] - 0s 2ms/step\n",
            "Epoch 50 - Mean Squared Error: 507.4853, Root Mean Squared Error: 22.5274\n",
            "187/187 [==============================] - 1s 5ms/step - loss: 0.0011 - val_loss: 4.7037e-04\n"
          ]
        },
        {
          "output_type": "display_data",
          "data": {
            "text/plain": [
              "<Figure size 1200x600 with 1 Axes>"
            ],
            "image/png": "[encoded data removed]"
          },
          "metadata": {}
        }
      ]
    },
    {
      "cell_type": "markdown",
      "source": [
        "### Train the model"
      ],
      "metadata": {
        "id": "RfBgI_pstb2q"
      }
    },
    {
      "cell_type": "code",
      "source": [
        "# Train the model\n",
        "model.fit(X_train, y_train, epochs=50, batch_size=32, validation_data=(X_val, y_val))"
      ],
      "metadata": {
        "colab": {
          "base_uri": "https://localhost:8080/"
        },
        "id": "4h9z4cqhteQo",
        "outputId": "cbdad9d7-742b-48e9-fbce-34cd84bef075"
      },
      "execution_count": null,
      "outputs": [
        {
          "output_type": "stream",
          "name": "stdout",
          "text": [
            "Epoch 1/50\n",
            "187/187 [==============================] - 1s 4ms/step - loss: 0.0011 - val_loss: 5.2973e-04\n",
            "Epoch 2/50\n",
            "187/187 [==============================] - 1s 4ms/step - loss: 0.0011 - val_loss: 4.8263e-04\n",
            "Epoch 3/50\n",
            "187/187 [==============================] - 1s 4ms/step - loss: 0.0011 - val_loss: 4.7961e-04\n",
            "Epoch 4/50\n",
            "187/187 [==============================] - 1s 5ms/step - loss: 0.0011 - val_loss: 5.3906e-04\n",
            "Epoch 5/50\n",
            "187/187 [==============================] - 1s 4ms/step - loss: 0.0011 - val_loss: 5.2179e-04\n",
            "Epoch 6/50\n",
            "187/187 [==============================] - 1s 4ms/step - loss: 0.0011 - val_loss: 4.9630e-04\n",
            "Epoch 7/50\n",
            "187/187 [==============================] - 1s 4ms/step - loss: 0.0011 - val_loss: 5.3367e-04\n",
            "Epoch 8/50\n",
            "187/187 [==============================] - 1s 5ms/step - loss: 0.0011 - val_loss: 4.7416e-04\n",
            "Epoch 9/50\n",
            "187/187 [==============================] - 1s 6ms/step - loss: 0.0011 - val_loss: 4.9481e-04\n",
            "Epoch 10/50\n",
            "187/187 [==============================] - 1s 6ms/step - loss: 0.0011 - val_loss: 5.4723e-04\n",
            "Epoch 11/50\n",
            "187/187 [==============================] - 1s 5ms/step - loss: 0.0011 - val_loss: 4.8214e-04\n",
            "Epoch 12/50\n",
            "187/187 [==============================] - 1s 4ms/step - loss: 0.0011 - val_loss: 4.7075e-04\n",
            "Epoch 13/50\n",
            "187/187 [==============================] - 1s 4ms/step - loss: 0.0011 - val_loss: 4.7213e-04\n",
            "Epoch 14/50\n",
            "187/187 [==============================] - 1s 4ms/step - loss: 0.0011 - val_loss: 4.9261e-04\n",
            "Epoch 15/50\n",
            "187/187 [==============================] - 1s 4ms/step - loss: 0.0011 - val_loss: 4.7821e-04\n",
            "Epoch 16/50\n",
            "187/187 [==============================] - 1s 4ms/step - loss: 0.0011 - val_loss: 4.6150e-04\n",
            "Epoch 17/50\n",
            "187/187 [==============================] - 1s 4ms/step - loss: 0.0011 - val_loss: 4.7293e-04\n",
            "Epoch 18/50\n",
            "187/187 [==============================] - 1s 4ms/step - loss: 0.0011 - val_loss: 4.8304e-04\n",
            "Epoch 19/50\n",
            "187/187 [==============================] - 1s 4ms/step - loss: 0.0011 - val_loss: 4.6761e-04\n",
            "Epoch 20/50\n",
            "187/187 [==============================] - 1s 5ms/step - loss: 0.0011 - val_loss: 4.6881e-04\n",
            "Epoch 21/50\n",
            "187/187 [==============================] - 1s 4ms/step - loss: 0.0011 - val_loss: 4.9798e-04\n",
            "Epoch 22/50\n",
            "187/187 [==============================] - 1s 4ms/step - loss: 0.0011 - val_loss: 4.7505e-04\n",
            "Epoch 23/50\n",
            "187/187 [==============================] - 1s 4ms/step - loss: 0.0011 - val_loss: 4.7604e-04\n",
            "Epoch 24/50\n",
            "187/187 [==============================] - 1s 6ms/step - loss: 0.0011 - val_loss: 4.8790e-04\n",
            "Epoch 25/50\n",
            "187/187 [==============================] - 1s 6ms/step - loss: 0.0011 - val_loss: 4.9349e-04\n",
            "Epoch 26/50\n",
            "187/187 [==============================] - 1s 5ms/step - loss: 0.0011 - val_loss: 4.8707e-04\n",
            "Epoch 27/50\n",
            "187/187 [==============================] - 1s 5ms/step - loss: 0.0011 - val_loss: 4.6666e-04\n",
            "Epoch 28/50\n",
            "187/187 [==============================] - 1s 4ms/step - loss: 0.0011 - val_loss: 4.7233e-04\n",
            "Epoch 29/50\n",
            "187/187 [==============================] - 1s 4ms/step - loss: 0.0011 - val_loss: 4.6389e-04\n",
            "Epoch 30/50\n",
            "187/187 [==============================] - 1s 4ms/step - loss: 0.0011 - val_loss: 4.6878e-04\n",
            "Epoch 31/50\n",
            "187/187 [==============================] - 1s 4ms/step - loss: 0.0011 - val_loss: 5.6891e-04\n",
            "Epoch 32/50\n",
            "187/187 [==============================] - 1s 4ms/step - loss: 0.0011 - val_loss: 4.8754e-04\n",
            "Epoch 33/50\n",
            "187/187 [==============================] - 1s 4ms/step - loss: 0.0011 - val_loss: 4.9029e-04\n",
            "Epoch 34/50\n",
            "187/187 [==============================] - 1s 4ms/step - loss: 0.0011 - val_loss: 4.6614e-04\n",
            "Epoch 35/50\n",
            "187/187 [==============================] - 1s 4ms/step - loss: 0.0011 - val_loss: 4.8702e-04\n",
            "Epoch 36/50\n",
            "187/187 [==============================] - 1s 4ms/step - loss: 0.0011 - val_loss: 4.8907e-04\n",
            "Epoch 37/50\n",
            "187/187 [==============================] - 1s 4ms/step - loss: 0.0011 - val_loss: 4.7460e-04\n",
            "Epoch 38/50\n",
            "187/187 [==============================] - 1s 4ms/step - loss: 0.0011 - val_loss: 5.3601e-04\n",
            "Epoch 39/50\n",
            "187/187 [==============================] - 1s 4ms/step - loss: 0.0011 - val_loss: 5.0120e-04\n",
            "Epoch 40/50\n",
            "187/187 [==============================] - 1s 4ms/step - loss: 0.0011 - val_loss: 4.7544e-04\n",
            "Epoch 41/50\n",
            "187/187 [==============================] - 1s 5ms/step - loss: 0.0011 - val_loss: 4.7115e-04\n",
            "Epoch 42/50\n",
            "187/187 [==============================] - 1s 6ms/step - loss: 0.0011 - val_loss: 4.6898e-04\n",
            "Epoch 43/50\n",
            "187/187 [==============================] - 1s 6ms/step - loss: 0.0011 - val_loss: 5.1566e-04\n",
            "Epoch 44/50\n",
            "187/187 [==============================] - 1s 5ms/step - loss: 0.0011 - val_loss: 4.7345e-04\n",
            "Epoch 45/50\n",
            "187/187 [==============================] - 1s 4ms/step - loss: 0.0011 - val_loss: 4.6647e-04\n",
            "Epoch 46/50\n",
            "187/187 [==============================] - 1s 4ms/step - loss: 0.0011 - val_loss: 5.2038e-04\n",
            "Epoch 47/50\n",
            "187/187 [==============================] - 1s 4ms/step - loss: 0.0011 - val_loss: 4.9182e-04\n",
            "Epoch 48/50\n",
            "187/187 [==============================] - 1s 4ms/step - loss: 0.0011 - val_loss: 4.6139e-04\n",
            "Epoch 49/50\n",
            "187/187 [==============================] - 1s 4ms/step - loss: 0.0011 - val_loss: 4.6832e-04\n",
            "Epoch 50/50\n",
            "187/187 [==============================] - 1s 4ms/step - loss: 0.0011 - val_loss: 5.2064e-04\n"
          ]
        },
        {
          "output_type": "execute_result",
          "data": {
            "text/plain": [
              "<keras.src.callbacks.History at 0x7ca096d532e0>"
            ]
          },
          "metadata": {},
          "execution_count": 41
        }
      ]
    },
    {
      "cell_type": "markdown",
      "source": [
        "### Evaluate the model on the test set"
      ],
      "metadata": {
        "id": "zRzI59l4tkmc"
      }
    },
    {
      "cell_type": "code",
      "source": [
        "# Evaluate the model on the test set\n",
        "loss = model.evaluate(X_test, y_test)\n",
        "print(f'Mean Squared Error on Test Set: {loss}')\n"
      ],
      "metadata": {
        "colab": {
          "base_uri": "https://localhost:8080/"
        },
        "id": "WMt_hXbjtnGp",
        "outputId": "1486a0e7-1f4c-470d-fcb1-068ba58a12dc"
      },
      "execution_count": null,
      "outputs": [
        {
          "output_type": "stream",
          "name": "stdout",
          "text": [
            "40/40 [==============================] - 0s 2ms/step - loss: 9.5508e-04\n",
            "Mean Squared Error on Test Set: 0.0009550791000947356\n"
          ]
        }
      ]
    },
    {
      "cell_type": "markdown",
      "source": [
        "### Make predictions on the test set\n",
        "\n"
      ],
      "metadata": {
        "id": "tBHgLn8rts0a"
      }
    },
    {
      "cell_type": "code",
      "source": [
        "# Make predictions on the test set\n",
        "predictions = model.predict(X_test)\n",
        "\n",
        "# Convert predictions back to original scale\n",
        "predictions = scaler.inverse_transform(predictions)\n"
      ],
      "metadata": {
        "colab": {
          "base_uri": "https://localhost:8080/"
        },
        "id": "xX1xJYVmtu12",
        "outputId": "a6242d92-6409-4ed8-f8d3-478a60f8108a"
      },
      "execution_count": null,
      "outputs": [
        {
          "output_type": "stream",
          "name": "stdout",
          "text": [
            "40/40 [==============================] - 0s 2ms/step\n"
          ]
        }
      ]
    },
    {
      "cell_type": "markdown",
      "source": [
        "## GRU"
      ],
      "metadata": {
        "id": "NcgFEebiRyV1"
      }
    },
    {
      "cell_type": "markdown",
      "source": [
        "### Import the necessary modules"
      ],
      "metadata": {
        "id": "368QWzRDSi7O"
      }
    },
    {
      "cell_type": "code",
      "source": [
        "import numpy as np\n",
        "import pandas as pd\n",
        "from sklearn.preprocessing import MinMaxScaler\n",
        "from tensorflow.keras.models import Sequential\n",
        "from tensorflow.keras.layers import GRU, Dense\n",
        "from sklearn.model_selection import train_test_split"
      ],
      "metadata": {
        "id": "7cOrR041ShsA"
      },
      "execution_count": null,
      "outputs": []
    },
    {
      "cell_type": "code",
      "source": [
        "gru_df = df\n",
        "gru_df.head()\n",
        "gru_df.info()"
      ],
      "metadata": {
        "colab": {
          "base_uri": "https://localhost:8080/"
        },
        "id": "IwG6vy67SvpL",
        "outputId": "9ea87b9c-45fa-4a3b-f92e-0ea07996654f"
      },
      "execution_count": null,
      "outputs": [
        {
          "output_type": "stream",
          "name": "stdout",
          "text": [
            "<class 'pandas.core.frame.DataFrame'>\n",
            "RangeIndex: 8533 entries, 0 to 8532\n",
            "Data columns (total 12 columns):\n",
            " #   Column         Non-Null Count  Dtype         \n",
            "---  ------         --------------  -----         \n",
            " 0   DATETIME       8533 non-null   datetime64[ns]\n",
            " 1   TEMP(C)        8533 non-null   float64       \n",
            " 2   PH(m)          8533 non-null   float64       \n",
            " 3   DO             8533 non-null   float64       \n",
            " 4   SALINITY(PPT)  8533 non-null   float64       \n",
            " 5   TDS(Mg/L)      8533 non-null   float64       \n",
            " 6   EC(MICROS)/CM  8533 non-null   float64       \n",
            " 7   TRANSPARENCY   8533 non-null   float64       \n",
            " 8   FE(Mg/L)       8533 non-null   float64       \n",
            " 9   CI(Mg/L)       8533 non-null   float64       \n",
            " 10  WQI            8533 non-null   float64       \n",
            " 11  GRADE          8533 non-null   int64         \n",
            "dtypes: datetime64[ns](1), float64(10), int64(1)\n",
            "memory usage: 800.1 KB\n"
          ]
        }
      ]
    },
    {
      "cell_type": "markdown",
      "source": [
        "### 2. Load and process the data"
      ],
      "metadata": {
        "id": "tP9yOrnBpfOq"
      }
    },
    {
      "cell_type": "code",
      "source": [
        "features = gru_df.drop(['DATETIME', 'WQI', 'GRADE'], axis=1)\n",
        "target = gru_df['WQI']\n",
        "\n",
        "# Normalize features using Min-Max scaling\n",
        "scaler = MinMaxScaler()\n",
        "features_scaled = scaler.fit_transform(features)\n",
        "\n",
        "# Define a function to create sequences for GRU\n",
        "def create_sequences(features, target, n_steps):\n",
        "    X, y = [], []\n",
        "    for i in range(len(features) - n_steps):\n",
        "        X.append(features.iloc[i:(i + n_steps)].values)\n",
        "        y.append(target.iloc[i + n_steps])\n",
        "    return np.array(X), np.array(y)  # Return NumPy arrays"
      ],
      "metadata": {
        "id": "RkDlQbCqqJls"
      },
      "execution_count": null,
      "outputs": []
    },
    {
      "cell_type": "markdown",
      "source": [
        "### 3. Split data into train, validation, test"
      ],
      "metadata": {
        "id": "swMsjQ5upiow"
      }
    },
    {
      "cell_type": "code",
      "source": [
        "n_steps = 5  # You can adjust this based on your data\n",
        "X, y = create_sequences(pd.DataFrame(features_scaled), target, n_steps)\n",
        "\n",
        "X_train, X_temp, y_train, y_temp = train_test_split(X, y, test_size=0.4, random_state=42)\n",
        "X_val, X_test, y_val, y_test = train_test_split(X_temp, y_temp, test_size=0.5, random_state=42)"
      ],
      "metadata": {
        "id": "-30lbVciqPxC"
      },
      "execution_count": null,
      "outputs": []
    },
    {
      "cell_type": "markdown",
      "source": [
        "### 4. Build the GRU model"
      ],
      "metadata": {
        "id": "75ExOVlYpl6o"
      }
    },
    {
      "cell_type": "code",
      "source": [
        "model = Sequential()\n",
        "model.add(GRU(units=50, activation='relu', input_shape=(X_train.shape[1], X_train.shape[2])))\n",
        "model.add(Dense(units=1))\n",
        "model.compile(optimizer='adam', loss='mse')"
      ],
      "metadata": {
        "id": "BXhNkB8BquwL"
      },
      "execution_count": null,
      "outputs": []
    },
    {
      "cell_type": "markdown",
      "source": [
        "### 5. Train the GRU model"
      ],
      "metadata": {
        "id": "3crAI6SeppRT"
      }
    },
    {
      "cell_type": "code",
      "source": [
        "model.fit(X_train, y_train, epochs=50, batch_size=32, validation_data=(X_val, y_val))"
      ],
      "metadata": {
        "colab": {
          "base_uri": "https://localhost:8080/"
        },
        "id": "yHRGWWWRq3Al",
        "outputId": "a864ffa5-aa66-4b56-b19e-738a5f743360"
      },
      "execution_count": null,
      "outputs": [
        {
          "output_type": "stream",
          "name": "stdout",
          "text": [
            "Epoch 1/50\n",
            "160/160 [==============================] - 2s 6ms/step - loss: 25226.2520 - val_loss: 10206.6865\n",
            "Epoch 2/50\n",
            "160/160 [==============================] - 1s 4ms/step - loss: 5058.1099 - val_loss: 2850.0254\n",
            "Epoch 3/50\n",
            "160/160 [==============================] - 1s 4ms/step - loss: 2563.0676 - val_loss: 2115.4768\n",
            "Epoch 4/50\n",
            "160/160 [==============================] - 1s 5ms/step - loss: 2354.8672 - val_loss: 2285.0840\n",
            "Epoch 5/50\n",
            "160/160 [==============================] - 1s 6ms/step - loss: 2372.5117 - val_loss: 2177.2637\n",
            "Epoch 6/50\n",
            "160/160 [==============================] - 1s 6ms/step - loss: 2297.4075 - val_loss: 2035.1023\n",
            "Epoch 7/50\n",
            "160/160 [==============================] - 1s 7ms/step - loss: 2292.8074 - val_loss: 2005.5129\n",
            "Epoch 8/50\n",
            "160/160 [==============================] - 1s 4ms/step - loss: 2262.3250 - val_loss: 2050.0618\n",
            "Epoch 9/50\n",
            "160/160 [==============================] - 1s 4ms/step - loss: 2243.4473 - val_loss: 1983.0970\n",
            "Epoch 10/50\n",
            "160/160 [==============================] - 1s 4ms/step - loss: 2227.2844 - val_loss: 1950.5034\n",
            "Epoch 11/50\n",
            "160/160 [==============================] - 1s 4ms/step - loss: 2193.3708 - val_loss: 1903.2086\n",
            "Epoch 12/50\n",
            "160/160 [==============================] - 1s 4ms/step - loss: 2170.9424 - val_loss: 1900.2432\n",
            "Epoch 13/50\n",
            "160/160 [==============================] - 1s 4ms/step - loss: 2193.3113 - val_loss: 1927.1602\n",
            "Epoch 14/50\n",
            "160/160 [==============================] - 1s 4ms/step - loss: 2157.0427 - val_loss: 1852.0392\n",
            "Epoch 15/50\n",
            "160/160 [==============================] - 1s 4ms/step - loss: 2150.2852 - val_loss: 1827.1324\n",
            "Epoch 16/50\n",
            "160/160 [==============================] - 1s 4ms/step - loss: 2139.1606 - val_loss: 1942.2673\n",
            "Epoch 17/50\n",
            "160/160 [==============================] - 1s 4ms/step - loss: 2110.5278 - val_loss: 1783.6163\n",
            "Epoch 18/50\n",
            "160/160 [==============================] - 1s 4ms/step - loss: 2098.3525 - val_loss: 1774.1665\n",
            "Epoch 19/50\n",
            "160/160 [==============================] - 1s 4ms/step - loss: 2069.7117 - val_loss: 1882.0228\n",
            "Epoch 20/50\n",
            "160/160 [==============================] - 1s 4ms/step - loss: 2072.9272 - val_loss: 1742.9604\n",
            "Epoch 21/50\n",
            "160/160 [==============================] - 1s 4ms/step - loss: 2042.8972 - val_loss: 1692.2123\n",
            "Epoch 22/50\n",
            "160/160 [==============================] - 1s 6ms/step - loss: 2022.8751 - val_loss: 1850.6993\n",
            "Epoch 23/50\n",
            "160/160 [==============================] - 1s 7ms/step - loss: 1968.0891 - val_loss: 1634.3230\n",
            "Epoch 24/50\n",
            "160/160 [==============================] - 1s 7ms/step - loss: 1962.4980 - val_loss: 1713.6801\n",
            "Epoch 25/50\n",
            "160/160 [==============================] - 1s 6ms/step - loss: 1951.0823 - val_loss: 1784.8727\n",
            "Epoch 26/50\n",
            "160/160 [==============================] - 1s 4ms/step - loss: 1982.8508 - val_loss: 1592.3142\n",
            "Epoch 27/50\n",
            "160/160 [==============================] - 1s 5ms/step - loss: 1950.4492 - val_loss: 1532.4158\n",
            "Epoch 28/50\n",
            "160/160 [==============================] - 1s 4ms/step - loss: 1896.0878 - val_loss: 1421.2828\n",
            "Epoch 29/50\n",
            "160/160 [==============================] - 1s 4ms/step - loss: 1853.0188 - val_loss: 1479.1676\n",
            "Epoch 30/50\n",
            "160/160 [==============================] - 1s 4ms/step - loss: 1789.5166 - val_loss: 1298.4883\n",
            "Epoch 31/50\n",
            "160/160 [==============================] - 1s 4ms/step - loss: 1807.1769 - val_loss: 1648.3643\n",
            "Epoch 32/50\n",
            "160/160 [==============================] - 1s 4ms/step - loss: 1760.8131 - val_loss: 1225.4919\n",
            "Epoch 33/50\n",
            "160/160 [==============================] - 1s 4ms/step - loss: 1727.6797 - val_loss: 1252.6462\n",
            "Epoch 34/50\n",
            "160/160 [==============================] - 1s 4ms/step - loss: 1705.5303 - val_loss: 1312.7969\n",
            "Epoch 35/50\n",
            "160/160 [==============================] - 1s 4ms/step - loss: 1709.9249 - val_loss: 1432.0034\n",
            "Epoch 36/50\n",
            "160/160 [==============================] - 1s 4ms/step - loss: 1639.6968 - val_loss: 1225.8420\n",
            "Epoch 37/50\n",
            "160/160 [==============================] - 1s 5ms/step - loss: 1616.9988 - val_loss: 1260.4888\n",
            "Epoch 38/50\n",
            "160/160 [==============================] - 1s 4ms/step - loss: 1608.0801 - val_loss: 1237.3748\n",
            "Epoch 39/50\n",
            "160/160 [==============================] - 1s 4ms/step - loss: 1630.3359 - val_loss: 1690.7477\n",
            "Epoch 40/50\n",
            "160/160 [==============================] - 1s 6ms/step - loss: 1589.6576 - val_loss: 1231.7872\n",
            "Epoch 41/50\n",
            "160/160 [==============================] - 1s 6ms/step - loss: 1604.7240 - val_loss: 1262.1335\n",
            "Epoch 42/50\n",
            "160/160 [==============================] - 1s 7ms/step - loss: 1583.9512 - val_loss: 1173.5190\n",
            "Epoch 43/50\n",
            "160/160 [==============================] - 1s 5ms/step - loss: 1528.2450 - val_loss: 1330.7914\n",
            "Epoch 44/50\n",
            "160/160 [==============================] - 1s 4ms/step - loss: 1537.5898 - val_loss: 1180.8586\n",
            "Epoch 45/50\n",
            "160/160 [==============================] - 1s 5ms/step - loss: 1531.5519 - val_loss: 1192.3657\n",
            "Epoch 46/50\n",
            "160/160 [==============================] - 1s 4ms/step - loss: 1527.1620 - val_loss: 1191.2692\n",
            "Epoch 47/50\n",
            "160/160 [==============================] - 1s 5ms/step - loss: 1534.6768 - val_loss: 1188.6124\n",
            "Epoch 48/50\n",
            "160/160 [==============================] - 1s 4ms/step - loss: 1498.6132 - val_loss: 1190.6486\n",
            "Epoch 49/50\n",
            "160/160 [==============================] - 1s 5ms/step - loss: 1526.6326 - val_loss: 1203.5865\n",
            "Epoch 50/50\n",
            "160/160 [==============================] - 1s 4ms/step - loss: 1508.1488 - val_loss: 1130.0129\n"
          ]
        },
        {
          "output_type": "execute_result",
          "data": {
            "text/plain": [
              "<keras.src.callbacks.History at 0x7ca087f67b80>"
            ]
          },
          "metadata": {},
          "execution_count": 49
        }
      ]
    },
    {
      "cell_type": "markdown",
      "source": [
        "### 6. Evaluate the model on the test set"
      ],
      "metadata": {
        "id": "Yumotp6tp3Z6"
      }
    },
    {
      "cell_type": "code",
      "source": [
        "loss = model.evaluate(X_test, y_test)\n",
        "print(f\"Test Loss: {loss:.4f}\")"
      ],
      "metadata": {
        "colab": {
          "base_uri": "https://localhost:8080/"
        },
        "id": "WaUs60ret52W",
        "outputId": "34ae86ab-bdd9-4d2c-b41b-43efb21fa05a"
      },
      "execution_count": null,
      "outputs": [
        {
          "output_type": "stream",
          "name": "stdout",
          "text": [
            "54/54 [==============================] - 0s 2ms/step - loss: 1567.6074\n",
            "Test Loss: 1567.6074\n"
          ]
        }
      ]
    },
    {
      "cell_type": "markdown",
      "source": [
        "### 7. Make predictions on the test set"
      ],
      "metadata": {
        "id": "SoKu9bZCp5-l"
      }
    },
    {
      "cell_type": "code",
      "source": [
        "y_pred = model.predict(X_test)\n",
        "print(y_pred.shape)"
      ],
      "metadata": {
        "colab": {
          "base_uri": "https://localhost:8080/"
        },
        "id": "seO6TPkPSdAm",
        "outputId": "fb58963a-6f58-45da-90b3-47351ef018ae"
      },
      "execution_count": null,
      "outputs": [
        {
          "output_type": "stream",
          "name": "stdout",
          "text": [
            "54/54 [==============================] - 0s 2ms/step\n",
            "(1706, 1)\n"
          ]
        }
      ]
    },
    {
      "cell_type": "code",
      "source": [
        "from sklearn.metrics import mean_squared_error\n",
        "\n",
        "# Assuming y_test is the actual target values\n",
        "mse = mean_squared_error(y_test, y_pred)\n",
        "print(f'Mean Squared Error: {mse:.4f}')\n",
        "\n",
        "rmse = np.sqrt(mse)\n",
        "\n",
        "print(f'Root Mean Squared Error: {rmse:.4f}')\n"
      ],
      "metadata": {
        "colab": {
          "base_uri": "https://localhost:8080/"
        },
        "id": "L28Mc79KuLz2",
        "outputId": "eca1caa5-ae6a-42f2-e5f0-c6c0e3cfbdf3"
      },
      "execution_count": null,
      "outputs": [
        {
          "output_type": "stream",
          "name": "stdout",
          "text": [
            "Mean Squared Error: 1567.6077\n",
            "Root Mean Squared Error: 39.5930\n"
          ]
        }
      ]
    }
  ]
}